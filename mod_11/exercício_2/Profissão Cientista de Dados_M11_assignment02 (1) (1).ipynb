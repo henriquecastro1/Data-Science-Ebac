{
 "cells": [
  {
   "cell_type": "markdown",
   "metadata": {},
   "source": [
    "## Árvores de regressão - exercícios 02\n",
    "\n",
    "Este exercício será uma continuação do anterior, mesma base, mesmas variáveis - vamos tentar buscar a 'melhor árvore'.\n",
    "\n",
    "A descrição das variáveis está abaixo:"
   ]
  },
  {
   "cell_type": "markdown",
   "metadata": {},
   "source": [
    "| Variavel | Descrição|\n",
    "|-|-|\n",
    "|CRIM| taxa de crimes per-cápita da cidade | \n",
    "|ZN| proporção de terrenos residenciais zoneados para lotes com mais de 25.000 pés quadrados. |\n",
    "|INDUS| proporção de acres de negócios não varejistas por cidade |\n",
    "|CHAS |vale 1 se o terreno faz fronteira com o *Charles River*; 0 caso contrário |\n",
    "|NOX| Concentração de óxido nítrico (em partes por 10 milhões) |\n",
    "|RM| número médio de quartos por habitação |\n",
    "|AGE| proporção de unidades ocupadas pelo proprietário construídas antes de 1940 |\n",
    "|DIS| distâncias ponderadas até cinco centros de empregos de Boston |\n",
    "|RAD| índice de acessibilidade a rodovias radiais |\n",
    "|TAX| taxa de imposto sobre a propriedade de valor total por \\\\$10,000 |\n",
    "|PTRATIO| razão pupilo-professor da cidade |\n",
    "|B| $ 1000 (Bk - 0,63) ^ 2 $ onde Bk é a proporção de negros por cidade |\n",
    "|LSTAT| \\%status inferior da população |\n",
    "|MEDV| (variável resposta) Valor mediano das casas ocupadas pelo proprietário em US $ 1.000|"
   ]
  },
  {
   "cell_type": "code",
   "execution_count": null,
   "metadata": {},
   "outputs": [],
   "source": [
    "import numpy as np\n",
    "import pandas as pd\n",
    "\n",
    "import matplotlib.pyplot as plt\n",
    "import seaborn as sns\n",
    "\n",
    "from sklearn import datasets  \n",
    "from sklearn.model_selection import train_test_split\n",
    "from sklearn.tree import DecisionTreeRegressor\n",
    "from sklearn.metrics import mean_squared_error\n",
    "from sklearn import tree\n",
    "\n",
    "%matplotlib inline"
   ]
  },
  {
   "cell_type": "code",
   "execution_count": null,
   "metadata": {},
   "outputs": [],
   "source": [
    "data_url = 'https://raw.githubusercontent.com/rhatiro/Curso_EBAC-Profissao_Cientista_de_Dados/main/Mo%CC%81dulo%2011%20-%20A%CC%81rvores%20II%20(Parte%20I-%20a%CC%81rvore%20de%20regressa%CC%83o)/database/boston_clean_data.csv'\n",
    "df = pd.read_csv(filepath_or_buffer=data_url)\n",
    "\n",
    "X = df.drop(columns='MEDV')\n",
    "y = df['MEDV']\n",
    "\n",
    "print('Quantidade de linhas e colunas de X:', X.shape)\n",
    "print('Quantidade de linhas de y:', len(y), '\\n')\n",
    "\n",
    "print(df.info())\n",
    "df"
   ]
  },
  {
   "cell_type": "code",
   "execution_count": null,
   "metadata": {},
   "outputs": [],
   "source": [
    "X.head()"
   ]
  },
  {
   "cell_type": "code",
   "execution_count": null,
   "metadata": {},
   "outputs": [],
   "source": [
    "y.head()"
   ]
  },
  {
   "cell_type": "markdown",
   "metadata": {},
   "source": [
    "### 1. Execute os passos do exercício anterior, até que você tenha uma árvore de regressão predizendo o valor do imóvel na base de treinamento."
   ]
  },
  {
   "cell_type": "code",
   "execution_count": null,
   "metadata": {},
   "outputs": [],
   "source": [
    "X_train, X_test, y_train, y_test = train_test_split(X, y, random_state=2402)\n",
    "\n",
    "dt_reg = DecisionTreeRegressor(max_depth=8, random_state=2402)\n",
    "dt_reg.fit(X_train, y_train)"
   ]
  },
  {
   "cell_type": "code",
   "execution_count": null,
   "metadata": {},
   "outputs": [],
   "source": [
    "print('Erro Quadrático Médio (MSE):', \n",
    "      round(mean_squared_error(y_true=y_train, \n",
    "                               y_pred=dt_reg.predict(X_train)), \n",
    "            2))\n",
    "\n",
    "print('Coeficiente de determinação (R-quadrado):', \n",
    "      round(dt_reg.score(X=X_train, \n",
    "                         y=y_train), \n",
    "            2))"
   ]
  },
  {
   "cell_type": "code",
   "execution_count": null,
   "metadata": {},
   "outputs": [],
   "source": [
    "pd.concat(objs=[y_train.reset_index(drop=True), \n",
    "                pd.DataFrame(data=dt_reg.predict(X_train), \n",
    "                             columns=['Valor predito do imóvel na base de treinamento']\n",
    "                            )\n",
    "               ], axis=1)"
   ]
  },
  {
   "cell_type": "markdown",
   "metadata": {},
   "source": [
    "### 2.  Calcule o caminho indicado pelos CCP-alfas dessa árvore."
   ]
  },
  {
   "cell_type": "code",
   "execution_count": null,
   "metadata": {},
   "outputs": [],
   "source": [
    "path = dt_reg.cost_complexity_pruning_path(X=X_train, y=y_train)\n",
    "path"
   ]
  },
  {
   "cell_type": "code",
   "execution_count": null,
   "metadata": {},
   "outputs": [],
   "source": [
    "ccp_alphas, impurities = path.ccp_alphas, path.impurities\n",
    "\n",
    "plt.figure(figsize=(12,6))\n",
    "plt.plot(ccp_alphas, impurities)\n",
    "\n",
    "plt.xlabel(xlabel='Alpha efetivo')\n",
    "plt.ylabel(ylabel='Impureza total das folhas')\n",
    "\n",
    "plt.show()"
   ]
  },
  {
   "cell_type": "markdown",
   "metadata": {},
   "source": [
    "### 3. Paca cada valor de alpha obtido no item 2, treine uma árvore com o respectivo alfa, e guarde essa árvore em uma lista."
   ]
  },
  {
   "cell_type": "code",
   "execution_count": null,
   "metadata": {},
   "outputs": [],
   "source": [
    "clfs = []\n",
    "\n",
    "for ccp_alpha in ccp_alphas:\n",
    "    clf = DecisionTreeRegressor(ccp_alpha=ccp_alpha, random_state=2402)\n",
    "    clf.fit(X_train, y_train)\n",
    "    clfs.append(clf)"
   ]
  },
  {
   "cell_type": "code",
   "execution_count": null,
   "metadata": {},
   "outputs": [],
   "source": [
    "tree_depths = [clf.tree_.max_depth for clf in clfs]\n",
    "\n",
    "plt.figure(figsize=(12, 6))\n",
    "plt.plot(ccp_alphas, tree_depths)\n",
    "\n",
    "plt.xlabel(xlabel='Effective alpha')\n",
    "plt.ylabel(ylabel='Tree depth')\n",
    "\n",
    "plt.show()"
   ]
  },
  {
   "cell_type": "markdown",
   "metadata": {},
   "source": [
    "### 4. Para cada árvore na lista, calcule o MSE da árvore."
   ]
  },
  {
   "cell_type": "code",
   "execution_count": null,
   "metadata": {},
   "outputs": [],
   "source": [
    "train_scores = [mean_squared_error(y_true=y_train, \n",
    "                                   y_pred=clf.predict(X_train)) for clf in clfs]\n",
    "\n",
    "test_scores  = [mean_squared_error(y_true=y_test, \n",
    "                                   y_pred=clf.predict(X_test )) for clf in clfs]"
   ]
  },
  {
   "cell_type": "markdown",
   "metadata": {},
   "source": [
    "### 5. Monte um gráfico do MSE pelo alpha, escolha um valor de alpha perto do ponto de mínimo do MSE"
   ]
  },
  {
   "cell_type": "code",
   "execution_count": null,
   "metadata": {},
   "outputs": [],
   "source": [
    "fig, ax = plt.subplots(figsize=(12,6))\n",
    "\n",
    "ax.set_xlabel(xlabel='alpha')\n",
    "ax.set_ylabel(ylabel='MSE')\n",
    "ax.set_title(label='MSE  X  Alpha do conjunto de dados de treino e teste')\n",
    "\n",
    "ax.plot(ccp_alphas[:-6], train_scores[:-6], \n",
    "        marker='o', label='treino', drawstyle='steps-post')\n",
    "\n",
    "ax.plot(ccp_alphas[:-6], test_scores[:-6], \n",
    "        marker='o', label='teste', drawstyle='steps-post')\n",
    "\n",
    "ax.legend()\n",
    "\n",
    "plt.show()\n"
   ]
  },
  {
   "cell_type": "code",
   "execution_count": null,
   "metadata": {},
   "outputs": [],
   "source": [
    "df_ccp = pd.DataFrame(data={'ccp_alphas':ccp_alphas, \n",
    "                            'train_scores':train_scores, \n",
    "                            'test_scores':test_scores})\n",
    "\n",
    "df_ccp.sort_values(by=['test_scores', 'train_scores'])"
   ]
  },
  {
   "cell_type": "code",
   "execution_count": null,
   "metadata": {},
   "outputs": [],
   "source": [
    "ccp_alpha_min = df_ccp.sort_values(by=['test_scores', 'train_scores']).iloc[0,0]\n",
    "ccp_alpha_min"
   ]
  },
  {
   "cell_type": "markdown",
   "metadata": {},
   "source": [
    "### 6. Calcule o R-quadrado dessa árvore encontrada no item acima"
   ]
  },
  {
   "cell_type": "code",
   "execution_count": null,
   "metadata": {},
   "outputs": [],
   "source": [
    "final_tree = DecisionTreeRegressor(ccp_alpha=ccp_alpha_min, random_state=2402)\n",
    "final_tree.fit(X_train, y_train)\n",
    "\n",
    "print(f'Profundidade: {final_tree.tree_.max_depth}')\n",
    "print(f'R-quadrado na base de testes: {final_tree.score(X_test, y_test):.2f}')\n",
    "print(f'MSE na base de testes: {mean_squared_error(y_test, final_tree.predict(X_test)):.2f}')"
   ]
  },
  {
   "cell_type": "markdown",
   "metadata": {},
   "source": [
    "### 7. Visualize esta árvore."
   ]
  },
  {
   "cell_type": "code",
   "execution_count": null,
   "metadata": {},
   "outputs": [],
   "source": [
    "plt.rc('figure', figsize=(12,6))\n",
    "\n",
    "tree.plot_tree(decision_tree=final_tree, \n",
    "               feature_names=X.columns, \n",
    "               filled=True);"
   ]
  }
 ],
 "metadata": {
  "kernelspec": {
   "display_name": "Python 3 (ipykernel)",
   "language": "python",
   "name": "python3"
  },
  "language_info": {
   "codemirror_mode": {
    "name": "ipython",
    "version": 3
   },
   "file_extension": ".py",
   "mimetype": "text/x-python",
   "name": "python",
   "nbconvert_exporter": "python",
   "pygments_lexer": "ipython3",
   "version": "3.11.7"
  }
 },
 "nbformat": 4,
 "nbformat_minor": 4
}
