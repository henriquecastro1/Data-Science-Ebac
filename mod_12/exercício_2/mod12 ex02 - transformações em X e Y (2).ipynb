{
 "cells": [
  {
   "cell_type": "markdown",
   "metadata": {},
   "source": [
    "# Regressão 01 - tarefa 02 - transformações em X e Y"
   ]
  },
  {
   "cell_type": "markdown",
   "metadata": {},
   "source": [
    "### 1. Melhorando o ajuste no percentual de gorjetas\n",
    "\n",
    "a. Vamos partir do modelo feito na última tarefa, o que relaciona ```tip_pct``` e ```net_bill```. Carregue a base, os pacotes e reproduza este modelo aqui."
   ]
  },
  {
   "cell_type": "code",
   "execution_count": null,
   "metadata": {},
   "outputs": [],
   "source": [
    "import numpy as np\n",
    "import pandas as pd\n",
    "\n",
    "import matplotlib.pyplot as plt\n",
    "import seaborn as sns\n",
    "from seaborn import load_dataset\n",
    "\n",
    "import statsmodels.formula.api as smf\n",
    "\n",
    "%matplotlib inline"
   ]
  },
  {
   "cell_type": "code",
   "execution_count": null,
   "metadata": {},
   "outputs": [],
   "source": [
    "tips = load_dataset(name='tips')\n",
    "\n",
    "tips['tip_pct'] = tips['tip'] / (tips['total_bill'] - tips['tip'])\n",
    "tips['net_bill'] = tips['total_bill'] - tips['tip']\n",
    "\n",
    "tips"
   ]
  },
  {
   "cell_type": "code",
   "execution_count": null,
   "metadata": {},
   "outputs": [],
   "source": [
    "reg = smf.ols(formula='tip_pct ~ net_bill', data=tips).fit()\n",
    "print(reg.summary())\n",
    "\n",
    "tips['res'] = reg.resid\n",
    "\n",
    "sns.scatterplot(x='net_bill', y='res', data=tips, alpha=.75)\n",
    "plt.axhline(y=0, color='r', linestyle='--')\n"
   ]
  },
  {
   "cell_type": "code",
   "execution_count": null,
   "metadata": {},
   "outputs": [],
   "source": [
    "sns.regplot(x='net_bill', y='tip_pct', data=tips)\n",
    "plt.plot(tips['net_bill'], reg.fittedvalues, 'r,--')\n",
    "\n",
    "plt.show()"
   ]
  },
  {
   "cell_type": "markdown",
   "metadata": {},
   "source": [
    "### 2. ajuste o modelo de ```tip_pct``` em função do logaritmo de ```net_bill```."
   ]
  },
  {
   "cell_type": "code",
   "execution_count": null,
   "metadata": {},
   "outputs": [],
   "source": [
    "reg = smf.ols('tip_pct ~ np.log(net_bill)', data=tips).fit()\n",
    "print(reg.summary())\n",
    "\n",
    "tips['res'] = reg.resid\n",
    "\n",
    "sns.scatterplot(x='net_bill', y='res', data=tips, alpha=.75)\n",
    "plt.axhline(y=0, color='r', linestyle='--')\n",
    "\n",
    "plt.show()"
   ]
  },
  {
   "cell_type": "code",
   "execution_count": null,
   "metadata": {},
   "outputs": [],
   "source": [
    "sns.regplot(x='net_bill', y='tip_pct', data=tips)\n",
    "plt.plot(tips['net_bill'], reg.fittedvalues, 'r,--')\n",
    "\n",
    "plt.show()"
   ]
  },
  {
   "cell_type": "markdown",
   "metadata": {},
   "source": [
    "###  3. ajuste o modelo de ```tip_pct``` em função de um polinômio de segundo grau em ```net_bill```."
   ]
  },
  {
   "cell_type": "code",
   "execution_count": null,
   "metadata": {},
   "outputs": [],
   "source": [
    "reg = smf.ols('tip_pct ~ net_bill + bp.power(net_bill, 2)', data=tips).fit()\n",
    "print(reg.summary())\n",
    "\n",
    "tips['res'] = reg.resid\n",
    "\n",
    "sns.scatterplot(x='net_bill', y='res', data=tips, alpha=.75)\n",
    "plt.axhline(y=0, color='r', linestyle='--')\n",
    "\n",
    "plt.show()"
   ]
  },
  {
   "cell_type": "code",
   "execution_count": null,
   "metadata": {},
   "outputs": [],
   "source": [
    "sns.regplot(x='net_bill', y='tip_pct', data=tips)\n",
    "plt.plot(tips['net_bill'], reg.fittedvalues, 'r,--')\n",
    "\n",
    "plt.show()"
   ]
  },
  {
   "cell_type": "markdown",
   "metadata": {},
   "source": [
    "###  4. ajuste um modelo no log do ```tip_pct``` em função de ```net_bill```. Calcule o $R^2$ também em ```tip_pct```"
   ]
  },
  {
   "cell_type": "code",
   "execution_count": null,
   "metadata": {},
   "outputs": [],
   "source": [
    "reg = smf.ols('np.log(tip_pct) ~ net_bill', data=tips).fit()\n",
    "print(reg.summary())\n",
    "\n",
    "tips['res'] = reg.resid\n",
    "\n",
    "sns.scatterplot(x='net_bill', y='res', data=tips, alpha=.75)\n",
    "plt.axhline(y=0, color='r', linestyle='--')\n",
    "\n",
    "plt.show()"
   ]
  },
  {
   "cell_type": "code",
   "execution_count": null,
   "metadata": {},
   "outputs": [],
   "source": [
    "tips['pred_tip_pct'] = np.exp(reg.fittedvalues)\n",
    "\n",
    "print('R-squared:', \n",
    "      tips[['pred_tip_pct', 'tip_pct']].corr().iloc[0,1]**2\n",
    "   "
   ]
  },
  {
   "cell_type": "code",
   "execution_count": null,
   "metadata": {},
   "outputs": [],
   "source": [
    "sns.regplot(x='net_bill', y='tip_pct', data=tips)\n",
    "plt.plot(tips['net_bill'], tips['pred_tip_pct'], 'r,--')\n",
    "\n",
    "plt.show()"
   ]
  },
  {
   "cell_type": "markdown",
   "metadata": {},
   "source": [
    "###  5. ajuste um modelo no log do ```tip_pct``` em função do log de ```net_bill```. Calcule o $R^2$ também em ```tip_pct```."
   ]
  },
  {
   "cell_type": "code",
   "execution_count": null,
   "metadata": {},
   "outputs": [],
   "source": [
    "reg = smf.ols('np.log(tip_pct) ~ np.log(net_bill)', data=tips).fit()\n",
    "print(reg.summary())\n",
    "\n",
    "tips['res'] = reg.resid\n",
    "\n",
    "sns.scatterplot(x='net_bill', y='res', data=tips, alpha=.75)\n",
    "plt.axhline(y=0, color='r', linestyle='--')\n",
    "\n",
    "plt.show()"
   ]
  },
  {
   "cell_type": "code",
   "execution_count": null,
   "metadata": {},
   "outputs": [],
   "source": [
    "tips['pred_tip_pct'] = np.exp(reg.fittedvalues)\n",
    "\n",
    "print('R-squared:',\n",
    "      tips[['pred_tip_pct', 'tip_pct']].corr().iloc[0,1]**2\n",
    "     )"
   ]
  },
  {
   "cell_type": "code",
   "execution_count": null,
   "metadata": {},
   "outputs": [],
   "source": [
    "sns.regplot(x='net_bill', y='tip_pct', data=tips)\n",
    "plt.plot(tips['net_bill'], tips['pred_tip_pct'], 'r,--')\n",
    "\n",
    "plt.show()"
   ]
  },
  {
   "cell_type": "markdown",
   "metadata": {},
   "source": [
    "###  6. qual modelo resultou no melhor ajuste?"
   ]
  },
  {
   "cell_type": "code",
   "execution_count": null,
   "metadata": {},
   "outputs": [],
   "source": [
    "O último modelo no log de tip_pct em função do log de net_bill que obteve um coeficiente de determinação (𝑅2) de 31%."
   ]
  }
 ],
 "metadata": {
  "kernelspec": {
   "display_name": "Python 3 (ipykernel)",
   "language": "python",
   "name": "python3"
  },
  "language_info": {
   "codemirror_mode": {
    "name": "ipython",
    "version": 3
   },
   "file_extension": ".py",
   "mimetype": "text/x-python",
   "name": "python",
   "nbconvert_exporter": "python",
   "pygments_lexer": "ipython3",
   "version": "3.11.7"
  }
 },
 "nbformat": 4,
 "nbformat_minor": 4
}
