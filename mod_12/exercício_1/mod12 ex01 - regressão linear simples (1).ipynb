{
 "cells": [
  {
   "cell_type": "markdown",
   "metadata": {},
   "source": [
    "# Regressão 01 - tarefa 01"
   ]
  },
  {
   "cell_type": "markdown",
   "metadata": {},
   "source": [
    "### 1. Explorando a base de gorjetas\n",
    "\n",
    "a. Na aula fizemos uma regressão de ```tip``` explicada por ```net_bill```. Carregue os pacotes e a base, crie as variáveis necessárias como na aula, e reproduza esta regressão.\n",
    "\n",
    "b. Reproduza também o gráfico de dispersão dessas duas variáveis."
   ]
  },
  {
   "cell_type": "code",
   "execution_count": null,
   "metadata": {},
   "outputs": [],
   "source": [
    "import numpy as np\n",
    "import pandas as pd\n",
    "\n",
    "import matplotlib.pyplot as plt\n",
    "import seaborn as sns\n",
    "from seaborn import load_dataset\n",
    "\n",
    "import statsmodels.formula.api as smf\n",
    "\n",
    "from sklearn.metrics import r2_score\n",
    "\n",
    "%matplotlib inline"
   ]
  },
  {
   "cell_type": "code",
   "execution_count": null,
   "metadata": {},
   "outputs": [],
   "source": [
    "tips = load_dataset(name='tips')\n",
    "\n",
    "tips['tip_pct'] = tips['tip'] / (tips['total_bill'] - tips['tip'])\n",
    "tips['net_bill'] = tips['total_bill'] - tips['tip']\n",
    "\n",
    "tips = tips[tips['tip_pct']<.5]\n",
    "tips"
   ]
  },
  {
   "cell_type": "code",
   "execution_count": null,
   "metadata": {},
   "outputs": [],
   "source": [
    "reg_tip = smf.ols(formula='tip ~ net_bill', \n",
    "                  data=tips\n",
    "                 ).fit()\n",
    "\n",
    "reg_tip.summary()"
   ]
  },
  {
   "cell_type": "code",
   "execution_count": null,
   "metadata": {},
   "outputs": [],
   "source": [
    "tips['tip_predict'] = round(reg_tip.predict(tips),2)\n",
    "tips"
   ]
  },
  {
   "cell_type": "code",
   "execution_count": null,
   "metadata": {},
   "outputs": [],
   "source": [
    "plt.figure(figsize=(14,7))\n",
    "\n",
    "sns.regplot(x='net_bill', y='tip', data=tips, label='tip')\n",
    "\n",
    "plt.plot(tips['net_bill'], tips['tip_predict'], 'r+', label='tip_predict')\n",
    "\n",
    "x = tips['net_bill']\n",
    "y = x * reg_tip.params.net_bill\n",
    "plt.plot(x, y, '-y', label='beta')\n",
    "\n",
    "plt.legend()\n",
    "plt.xlim(left=0)\n",
    "plt.ylim(bottom=0)\n",
    "\n",
    "plt.xticks(ticks=np.arange(stop=tips['net_bill'].max(), step=1))\n",
    "plt.yticks(ticks=np.arange(stop=tips['tip'].max(), step=1))\n",
    "\n",
    "plt.show()"
   ]
  },
  {
   "cell_type": "markdown",
   "metadata": {},
   "source": [
    "### 2. Mudança de perspectiva\n",
    "\n",
    "Agora ajuste um modelo de regressão de ```tip_pct``` por ```net_bill```. Construa o gráfico de dispersão correspondente."
   ]
  },
  {
   "cell_type": "code",
   "execution_count": null,
   "metadata": {},
   "outputs": [],
   "source": [
    "reg_tip_pct = smf.ols(formula='tip_pct ~ net_bill', \n",
    "                      data=tips\n",
    "                     ).fit()\n",
    "\n",
    "reg_tip_pct.summary()"
   ]
  },
  {
   "cell_type": "code",
   "execution_count": null,
   "metadata": {},
   "outputs": [],
   "source": [
    "tips['tip_pct_predict'] = reg_tip_pct.predict(tips)"
   ]
  },
  {
   "cell_type": "code",
   "execution_count": null,
   "metadata": {},
   "outputs": [],
   "source": [
    "tips[['net_bill','tip','tip_predict','tip_pct','tip_pct_predict']]"
   ]
  },
  {
   "cell_type": "code",
   "execution_count": null,
   "metadata": {},
   "outputs": [],
   "source": [
    "plt.figure(figsize=(14,7))\n",
    "\n",
    "sns.regplot(x='net_bill', y='tip_pct', data=tips, label='tip_pct')\n",
    "plt.plot(tips['net_bill'], tips['tip_pct_predict'], 'r+', label='tip_pct_predict')\n",
    "\n",
    "plt.legend()\n",
    "plt.xlim(left=0)\n",
    "plt.ylim(bottom=0)\n",
    "\n",
    "plt.xticks(ticks=np.arange(stop=tips['net_bill'].max(), step=1))\n",
    "plt.yticks(ticks=np.arange(stop=tips['tip_pct'].max(), step=.05))\n",
    "\n",
    "plt.show()"
   ]
  },
  {
   "cell_type": "markdown",
   "metadata": {},
   "source": [
    "### 3. Comente\n",
    "\n",
    "Compare os dois gráficos e comente (de forma objetiva e suscinta) a relação entre eles e a diferença do ajuste. Podemos comparar diretamente os $R^2$s?"
   ]
  },
  {
   "cell_type": "code",
   "execution_count": null,
   "metadata": {},
   "outputs": [],
   "source": [
    "Resposta:\n",
    "\n",
    "Nota-se em ambos os gráficos que a maior parte das observações se concentra nos menores valores líquidos da conta, ou seja,\n",
    "a quantidade de dados diminui à medida que o valor da conta aumenta. A primeira análise do gráfico de dispersão difere da \n",
    "segunda ao indicar uma correlação positiva, o que significa que à medida que os valores de net_bill aumentam, os valores de tip \n",
    "também tendem a aumentar, enquanto os dados da segunda análise indicam uma correlação inversa ou negativa entre net_bill e \n",
    "tip_pct, sugerindo que quando net_bill aumenta, tip_pct tende a diminuir. Ambos os modelos apresentam um baixo coeficiente de \n",
    "determinação (𝑅2), porém o primeiro modelo tem um melhor ajuste aos dados, possibilitando uma melhor predição do que o segundo\n",
    "modelo."
   ]
  },
  {
   "cell_type": "markdown",
   "metadata": {},
   "source": [
    "### 4. Ajuste do modelo em outra escala\n",
    "\n",
    "Com o modelo no item 3, obtenha a preditiva do valor da gorjeta:\n",
    "  1. obtenha o valor predito ```pred``` para ```tip_pct``` (dica, veja o atributo ```reg.fittedvalues```)\n",
    "  2. obtenha o valor predito para ```tip``` como ```tip_pct * net_bill```\n",
    "  3. calcule o $R^2$ do modelo para ```tip```\n",
    "  4. compare esse $R^2$ com o do item 1"
   ]
  },
  {
   "cell_type": "code",
   "execution_count": null,
   "metadata": {},
   "outputs": [],
   "source": [
    "reg_tip_pct.fittedvalues"
   ]
  },
  {
   "cell_type": "code",
   "execution_count": null,
   "metadata": {},
   "outputs": [],
   "source": [
    "reg_tip_pct.fittedvalues * tips.net_bill"
   ]
  },
  {
   "cell_type": "code",
   "execution_count": null,
   "metadata": {},
   "outputs": [],
   "source": [
    "r2 = r2_score(y_true=tips['tip'], \n",
    "              y_pred=reg_tip_pct.fittedvalues * tips.net_bill)\n",
    "\n",
    "print(\"Coeficiente de determinação (𝑅2) do modelo para tip:\", r2)"
   ]
  },
  {
   "cell_type": "code",
   "execution_count": null,
   "metadata": {},
   "outputs": [],
   "source": [
    "print('Coeficiente de determinação (𝑅2) dos valores preditos para `tip` como tip_pct(predict) * net_bill:', \n",
    "      round(r2 * 100, 2), '%')\n",
    "\n",
    "print('Coeficiente de determinação (𝑅2) do modelo `reg_tip`:', \n",
    "      round(reg_tip.rsquared * 100, 2), '%')\n",
    "\n",
    "print('Coeficiente de determinação (𝑅2) do modelo `reg_tip_pct`:', \n",
    "      round(reg_tip_pct.rsquared * 100, 2), '%')"
   ]
  }
 ],
 "metadata": {
  "kernelspec": {
   "display_name": "Python 3 (ipykernel)",
   "language": "python",
   "name": "python3"
  },
  "language_info": {
   "codemirror_mode": {
    "name": "ipython",
    "version": 3
   },
   "file_extension": ".py",
   "mimetype": "text/x-python",
   "name": "python",
   "nbconvert_exporter": "python",
   "pygments_lexer": "ipython3",
   "version": "3.11.7"
  }
 },
 "nbformat": 4,
 "nbformat_minor": 4
}
