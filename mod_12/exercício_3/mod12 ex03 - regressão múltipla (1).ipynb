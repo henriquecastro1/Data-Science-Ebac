{
 "cells": [
  {
   "cell_type": "markdown",
   "metadata": {},
   "source": [
    "# Regressão 01 - tarefa 03 - transformações em X e Y"
   ]
  },
  {
   "cell_type": "markdown",
   "metadata": {},
   "source": [
    "Carregue os pacotes necessários e a base de gorjetas.\n",
    "\n",
    "### I. Modelo no valor da gorjeta\n",
    "\n",
    "1. Crie a matriz de design (e a matriz y) utilizando o Patsy, para um modelo em ```tip```, explicada por ```sex, smoker, diner e net_bill```.  \n",
    "2. Remova as variáveis não significantes.  \n",
    "3. observe o gráfico de resíduos em função de ```net_bill```  \n",
    "4. teste transformar ```net_bill``` no log e um polinômio. Escolha o melhor modelo."
   ]
  },
  {
   "cell_type": "code",
   "execution_count": null,
   "metadata": {},
   "outputs": [],
   "source": [
    "import numpy as np\n",
    "import pandas as pd\n",
    "\n",
    "import matplotlib.pyplot as plt\n",
    "import seaborn as sns\n",
    "from seaborn import load_dataset\n",
    "\n",
    "import patsy\n",
    "import statsmodels.api as sm\n",
    "import statsmodels.formula.api as smf\n",
    "\n",
    "%matplotlib inline"
   ]
  },
  {
   "cell_type": "code",
   "execution_count": null,
   "metadata": {},
   "outputs": [],
   "source": [
    "tips = load_dataset(name='tips')\n",
    "\n",
    "tips['tip_pct'] = tips['tip'] / (tips['total_bill'] - tips['tip'])\n",
    "tips['net_bill'] = tips['total_bill'] - tips['tip']\n",
    "\n",
    "tips"
   ]
  },
  {
   "cell_type": "markdown",
   "metadata": {},
   "source": [
    "#### 1. Crie a matriz de design (e a matriz y) utilizando o Patsy, para um modelo em tip, explicada por sex, smoker, diner e net_bill. "
   ]
  },
  {
   "cell_type": "code",
   "execution_count": null,
   "metadata": {},
   "outputs": [],
   "source": [
    "y, X = patsy.dmatrices(formula_like='tip ~ sex + smoker + time + net_bill', \n",
    "                       data=tips)"
   ]
  },
  {
   "cell_type": "code",
   "execution_count": null,
   "metadata": {},
   "outputs": [],
   "source": [
    "x"
   ]
  },
  {
   "cell_type": "code",
   "execution_count": null,
   "metadata": {},
   "outputs": [],
   "source": [
    "y"
   ]
  },
  {
   "cell_type": "markdown",
   "metadata": {},
   "source": [
    "### 2. Remova as variáveis não significantes.\n"
   ]
  },
  {
   "cell_type": "code",
   "execution_count": null,
   "metadata": {},
   "outputs": [],
   "source": [
    "y, X = patsy.dmatrices(formula_like='tip ~ net_bill', \n",
    "                       data=tips\n",
    "modelo_sm1 = sm.O)\n",
    "LS(y, X).fit()\n",
    "modelo_sm1.summary()"
   ]
  },
  {
   "cell_type": "markdown",
   "metadata": {},
   "source": [
    "### 3. Observe o gráfico de resíduos em função de net_bill"
   ]
  },
  {
   "cell_type": "code",
   "execution_count": null,
   "metadata": {},
   "outputs": [],
   "source": [
    "sns.scatterplot(x='net_bill', \n",
    "                y=modelo_sm1.resid, \n",
    "                data=tips)\n",
    "plt.axhline(y=0, \n",
    "            color='r', \n",
    "            linestyle='--')\n",
    "\n",
    "plt.show()"
   ]
  },
  {
   "cell_type": "markdown",
   "metadata": {},
   "source": [
    "### 4. Teste transformar net_bill no log e um polinômio. Escolha o melhor modelo.\n"
   ]
  },
  {
   "cell_type": "code",
   "execution_count": null,
   "metadata": {},
   "outputs": [],
   "source": [
    "y, X = patsy.dmatrices(formula_like='tip ~ np.log(net_bill)', \n",
    "                       data=tips)\n",
    "\n",
    "modelo_sm1_log = sm.OLS(y, X).fit()\n",
    "modelo_sm1_log.summary()"
   ]
  },
  {
   "cell_type": "code",
   "execution_count": null,
   "metadata": {},
   "outputs": [],
   "source": [
    "y, X = patsy.dmatrices(formula_like='tip ~ net_bill + np.power(net_bill, 2)', \n",
    "                       data=tips)\n",
    "\n",
    "modelo_sm1_pow = sm.OLS(y, X).fit()\n",
    "modelo_sm1_pow.summary()"
   ]
  },
  {
   "cell_type": "code",
   "execution_count": null,
   "metadata": {},
   "outputs": [],
   "source": [
    "print('`modelo_sm1_log` R-squared:', modelo_sm1_log.rsquared)\n",
    "print('`modelo_sm1_pow` R-squared:', modelo_sm1_pow.rsquared)"
   ]
  },
  {
   "cell_type": "markdown",
   "metadata": {},
   "source": [
    "### II. Modelo no valor do percentual da gorjeta\n",
    "\n",
    "1. Crie a matriz de design (e a matriz y) utilizando o Patsy, para um modelo no log de ```tip```, explicado por ```sex, smoker, diner e net_bill```.\n",
    "2. Remova as variáveis não significantes.\n",
    "3. Observe o gráfico de resíduos em função de ```net_bill```\n",
    "4. Teste transformar ```net_bill``` no log e um polinômio. Escolha o melhor modelo.\n",
    "5. Do modelo final deste item, calcule o $R^2$ na escala de ```tip``` (sem o log). Compare com o modelo do item 1. Qual tem melhor coeficiente de determinação?"
   ]
  },
  {
   "cell_type": "markdown",
   "metadata": {},
   "source": [
    "### 1. Crie a matriz de design (e a matriz y) utilizando o Patsy, para um modelo no log de tip, explicado por sex, smoker, diner e net_bill."
   ]
  },
  {
   "cell_type": "code",
   "execution_count": null,
   "metadata": {},
   "outputs": [],
   "source": [
    "1. Crie a matriz de design (e a matriz y) utilizando o Patsy, para um modelo no log de tip, explicado por sex, smoker, diner e net_bill."
   ]
  },
  {
   "cell_type": "markdown",
   "metadata": {},
   "source": [
    "### 2. Remova as variáveis não significantes."
   ]
  },
  {
   "cell_type": "code",
   "execution_count": null,
   "metadata": {},
   "outputs": [],
   "source": [
    "y, X = patsy.dmatrices(formula_like='np.log(tip) ~ net_bill', \n",
    "                       data=tips)\n",
    "\n",
    "modelo_sm2 = sm.OLS(y, X).fit()\n",
    "modelo_sm2.summary()"
   ]
  },
  {
   "cell_type": "markdown",
   "metadata": {},
   "source": [
    "### 3. Observe o gráfico de resíduos em função de net_bill\n"
   ]
  },
  {
   "cell_type": "code",
   "execution_count": null,
   "metadata": {},
   "outputs": [],
   "source": [
    "sns.scatterplot(x='net_bill', \n",
    "                y=modelo_sm2.resid, \n",
    "                data=tips)\n",
    "plt.axhline(y=0, \n",
    "            color='r', \n",
    "            linestyle='--')\n",
    "\n",
    "plt.show()"
   ]
  },
  {
   "cell_type": "markdown",
   "metadata": {},
   "source": [
    "### 4. Teste transformar net_bill no log e um polinômio. Escolha o melhor modelo.\n"
   ]
  },
  {
   "cell_type": "code",
   "execution_count": null,
   "metadata": {},
   "outputs": [],
   "source": [
    "y, X = patsy.dmatrices(formula_like='np.log(tip) ~ np.log(net_bill)', \n",
    "                       data=tips)\n",
    "\n",
    "modelo_sm2_log = sm.OLS(y, X).fit()\n",
    "modelo_sm2_log.summary()"
   ]
  },
  {
   "cell_type": "code",
   "execution_count": null,
   "metadata": {},
   "outputs": [],
   "source": [
    "y, X = patsy.dmatrices(formula_like='np.log(tip) ~ net_bill + np.power(net_bill,2)', \n",
    "                       data=tips)\n",
    "\n",
    "modelo_sm2_pow = sm.OLS(y, X).fit()\n",
    "modelo_sm2_pow.summary()"
   ]
  },
  {
   "cell_type": "code",
   "execution_count": null,
   "metadata": {},
   "outputs": [],
   "source": [
    "print('`modelo_sm2_log` R-squared:', modelo_sm2_log.rsquared)\n",
    "print('`modelo_sm2_pow` R-squared:', modelo_sm2_pow.rsquared)"
   ]
  },
  {
   "cell_type": "markdown",
   "metadata": {},
   "source": [
    "### 5. Do modelo final deste item, calcule o 𝑅2 na escala de tip (sem o log). Compare com o modelo do item 1. Qual tem melhor coeficiente de determinação?"
   ]
  },
  {
   "cell_type": "code",
   "execution_count": null,
   "metadata": {},
   "outputs": [],
   "source": [
    "tips['pred_tip_log'] = np.exp(modelo_sm2_log.fittedvalues)\n",
    "\n",
    "print('`modelo_sm2_log` R-squared:',\n",
    "      tips[['pred_tip_log', 'tip']].corr().iloc[0,1]**2)\n",
    "\n",
    "tips['pred_tip_pow'] = np.exp(modelo_sm2_pow.fittedvalues)\n",
    "print('`modelo_sm2_pow` R-squared:',\n",
    "      tips[['pred_tip_pow', 'tip']].corr().iloc[0,1]**2)"
   ]
  },
  {
   "cell_type": "markdown",
   "metadata": {},
   "source": [
    "O modelo **modelo_sm2_log** obteve o resultado inferior, com 32,8% de coeficiente de determinação em comparação com o modelo **modelo_sm1_pow** que obteve o resultado de 33,4%."
   ]
  },
  {
   "cell_type": "markdown",
   "metadata": {},
   "source": [
    "### III. Previsão de renda\n",
    "\n",
    "Vamos trabalhar a base que você vai usar no projeto do final deste ciclo.\n",
    "\n",
    "Carregue a base ```previsao_de_renda.csv```.\n",
    "\n",
    "|variavel|descrição|\n",
    "|-|-|\n",
    "|data_ref                | Data de referência de coleta das variáveis |\n",
    "|index                   | Código de identificação do cliente|\n",
    "|sexo                    | Sexo do cliente|\n",
    "|posse_de_veiculo        | Indica se o cliente possui veículo|\n",
    "|posse_de_imovel         | Indica se o cliente possui imóvel|\n",
    "|qtd_filhos              | Quantidade de filhos do cliente|\n",
    "|tipo_renda              | Tipo de renda do cliente|\n",
    "|educacao                | Grau de instrução do cliente|\n",
    "|estado_civil            | Estado civil do cliente|\n",
    "|tipo_residencia         | Tipo de residência do cliente (própria, alugada etc)|\n",
    "|idade                   | Idade do cliente|\n",
    "|tempo_emprego           | Tempo no emprego atual|\n",
    "|qt_pessoas_residencia   | Quantidade de pessoas que moram na residência|\n",
    "|renda                   | Renda em reais|\n",
    "\n",
    "1. Ajuste um modelo de regressão linear simples para explicar ```renda``` como variável resposta, por ```tempo_emprego``` como variável explicativa. Observe que há muitas observações nessa tabela. Utilize os recursos que achar necessário.\n",
    "2. Faça uma análise de resíduos. Com os recursos vistos neste módulo, como você melhoraria esta regressão?\n",
    "3. Ajuste um modelo de regressão linear múltipla para explicar ```renda``` (ou uma transformação de ```renda```) de acordo com as demais variáveis.\n",
    "4. Remova as variáveis não significantes e ajuste novamente o modelo. Interprete os parâmetros\n",
    "5. Faça uma análise de resíduos. Avalie a qualidade do ajuste."
   ]
  },
  {
   "cell_type": "markdown",
   "metadata": {},
   "source": [
    "### 1. Ajuste um modelo de regressão linear simples para explicar renda como variável resposta, por tempo_emprego como variável explicativa. Observe que há muitas observações nessa tabela. Utilize os recursos que achar necessário.\n"
   ]
  },
  {
   "cell_type": "code",
   "execution_count": null,
   "metadata": {},
   "outputs": [],
   "source": [
    "reg = smf.ols(formula='renda ~ tempo_emprego', \n",
    "              data=previsao_de_renda\n",
    "             ).fit()\n",
    "\n",
    "reg.summary()"
   ]
  },
  {
   "cell_type": "code",
   "execution_count": null,
   "metadata": {},
   "outputs": [],
   "source": [
    "previsao_de_renda['renda_predict'] = reg.predict(previsao_de_renda)\n",
    "\n",
    "print('R-squared:', \n",
    "      previsao_de_renda[['renda_predict', 'renda']].corr().iloc[0,1]**2\n",
    "     )"
   ]
  },
  {
   "cell_type": "code",
   "execution_count": null,
   "metadata": {},
   "outputs": [],
   "source": [
    "plt.figure(figsize=(14,7))\n",
    "\n",
    "sns.regplot(x='tempo_emprego', \n",
    "            y='renda', \n",
    "            data=previsao_de_renda, \n",
    "            label='renda')\n",
    "plt.plot(previsao_de_renda['tempo_emprego'], \n",
    "         previsao_de_renda['renda_predict'], \n",
    "         'r+', \n",
    "         label='renda_predict')\n",
    "\n",
    "plt.legend()\n",
    "\n",
    "plt.xticks(ticks=np.arange(stop=previsao_de_renda['tempo_emprego'].max(), \n",
    "                           step=1))\n",
    "plt.yticks(ticks=np.arange(stop=previsao_de_renda['renda'].max(), \n",
    "                           step=25000))\n",
    "\n",
    "plt.show()"
   ]
  },
  {
   "cell_type": "markdown",
   "metadata": {},
   "source": [
    "### 2. Faça uma análise de resíduos. Com os recursos vistos neste módulo, como você melhoraria esta regressão?\n"
   ]
  },
  {
   "cell_type": "code",
   "execution_count": null,
   "metadata": {},
   "outputs": [],
   "source": [
    "plt.figure(figsize=(14,7))\n",
    "\n",
    "previsao_de_renda['res'] = reg.resid\n",
    "\n",
    "sns.scatterplot(x='tempo_emprego', \n",
    "                y='res', \n",
    "                data=previsao_de_renda)\n",
    "plt.axhline(y=0, \n",
    "            color='r', \n",
    "            linestyle='--')\n",
    "\n",
    "plt.xticks(ticks=np.arange(stop=previsao_de_renda['tempo_emprego'].max(), \n",
    "                           step=1))\n",
    "\n",
    "plt.show()"
   ]
  },
  {
   "cell_type": "code",
   "execution_count": null,
   "metadata": {},
   "outputs": [],
   "source": [
    "reg = smf.ols(formula='np.log(renda) ~ np.log(tempo_emprego)', \n",
    "              data=previsao_de_renda\n",
    "             ).fit()\n",
    "\n",
    "reg.summary()"
   ]
  },
  {
   "cell_type": "code",
   "execution_count": null,
   "metadata": {},
   "outputs": [],
   "source": [
    "previsao_de_renda['renda_predict'] = np.exp(reg.predict(previsao_de_renda))\n",
    "\n",
    "print('`renda_predict` R-squared:', \n",
    "      previsao_de_renda[['renda_predict', 'renda']].corr().iloc[0,1]**2\n",
    "     )"
   ]
  },
  {
   "cell_type": "code",
   "execution_count": null,
   "metadata": {},
   "outputs": [],
   "source": [
    "plt.figure(figsize=(14,7))\n",
    "\n",
    "sns.regplot(x='tempo_emprego', \n",
    "            y='renda', \n",
    "            data=previsao_de_renda, \n",
    "            label='renda')\n",
    "\n",
    "plt.plot(previsao_de_renda['tempo_emprego'], \n",
    "         previsao_de_renda['renda_predict'], \n",
    "         'r+', \n",
    "         label='renda_predict')\n",
    "\n",
    "plt.legend()\n",
    "\n",
    "plt.xticks(ticks=np.arange(stop=previsao_de_renda['tempo_emprego'].max(), step=1))\n",
    "\n",
    "plt.show()"
   ]
  },
  {
   "cell_type": "code",
   "execution_count": null,
   "metadata": {},
   "outputs": [],
   "source": [
    "plt.figure(figsize=(14,7))\n",
    "\n",
    "previsao_de_renda['res'] = reg.resid\n",
    "\n",
    "sns.scatterplot(x='tempo_emprego', \n",
    "                y='res', \n",
    "                data=previsao_de_renda)\n",
    "plt.axhline(y=0, \n",
    "            color='r', \n",
    "            linestyle='--')\n",
    "\n",
    "plt.xticks(ticks=np.arange(stop=previsao_de_renda['tempo_emprego'].max(), \n",
    "                           step=1))\n",
    "\n",
    "plt.show()"
   ]
  },
  {
   "cell_type": "markdown",
   "metadata": {},
   "source": [
    "### 3. Ajuste um modelo de regressão linear múltipla para explicar renda (ou uma transformação de renda) de acordo com as demais variáveis.\n"
   ]
  },
  {
   "cell_type": "code",
   "execution_count": null,
   "metadata": {},
   "outputs": [],
   "source": [
    "reg_mult = smf.ols(\n",
    "    formula='''\n",
    "            renda ~ sexo \n",
    "                    + posse_de_veiculo \n",
    "                    + posse_de_imovel \n",
    "                    + qtd_filhos \n",
    "                    + tipo_renda \n",
    "                    + educacao \n",
    "                    + estado_civil \n",
    "                    + tipo_residencia \n",
    "                    + idade \n",
    "                    + tempo_emprego \n",
    "                    + qt_pessoas_residencia\n",
    "            ''', \n",
    "    data=previsao_de_renda\n",
    ").fit()\n",
    "\n",
    "reg_mult.summary()"
   ]
  },
  {
   "cell_type": "markdown",
   "metadata": {},
   "source": [
    "### 4. Remova as variáveis não significantes e ajuste novamente o modelo. Interprete os parâmetros"
   ]
  },
  {
   "cell_type": "code",
   "execution_count": null,
   "metadata": {},
   "outputs": [],
   "source": [
    "reg_mult = smf.ols(\n",
    "    formula='''\n",
    "            np.log(renda) ~ sexo \n",
    "                            + posse_de_imovel \n",
    "                            + idade \n",
    "                            + tempo_emprego\n",
    "            ''', \n",
    "    data=previsao_de_renda\n",
    ").fit()\n",
    "\n",
    "reg_mult.summary()"
   ]
  },
  {
   "cell_type": "markdown",
   "metadata": {},
   "source": [
    "### 5. Faça uma análise de resíduos. Avalie a qualidade do ajuste.\n"
   ]
  },
  {
   "cell_type": "code",
   "execution_count": null,
   "metadata": {},
   "outputs": [],
   "source": [
    "previsao_de_renda['res_log'] = reg_mult.resid\n",
    "\n",
    "plt.figure(figsize=(14,7))\n",
    "sns.scatterplot(x='tempo_emprego', \n",
    "                y='res_log', \n",
    "                data=previsao_de_renda)\n",
    "plt.axhline(y=0, \n",
    "            color='r', \n",
    "            linestyle='--')\n",
    "plt.xticks(ticks=np.arange(stop=previsao_de_renda['tempo_emprego'].max(), \n",
    "                           step=1))\n",
    "\n",
    "plt.show()"
   ]
  },
  {
   "cell_type": "code",
   "execution_count": null,
   "metadata": {},
   "outputs": [],
   "source": [
    "previsao_de_renda['renda_predict_log'] = np.exp(reg_mult.predict(previsao_de_renda))\n"
   ]
  },
  {
   "cell_type": "code",
   "execution_count": null,
   "metadata": {},
   "outputs": [],
   "source": [
    "print('`renda_predict` R-squared:', \n",
    "      round(previsao_de_renda[\n",
    "          ['renda_predict', 'renda']\n",
    "      ].corr().iloc[0,1]**2 * 100, \n",
    "            2), \n",
    "      '%'\n",
    "     )\n",
    "print('`renda_predict_log` R-squared:', \n",
    "      round(previsao_de_renda[\n",
    "          ['renda_predict_log', 'renda']\n",
    "      ].corr().iloc[0,1]**2 * 100, \n",
    "            2), \n",
    "      '%'\n",
    "     )\n",
    "\n",
    "plt.figure(figsize=(14,7))\n",
    "plt.plot(previsao_de_renda['tempo_emprego'], \n",
    "         previsao_de_renda['renda'], \n",
    "         '.', \n",
    "         label='renda')\n",
    "plt.plot(previsao_de_renda['tempo_emprego'], \n",
    "         previsao_de_renda['renda_predict'], \n",
    "         'y+', \n",
    "         alpha=.3, \n",
    "         label='renda_predict')\n",
    "plt.plot(previsao_de_renda['tempo_emprego'], \n",
    "         previsao_de_renda['renda_predict_log'], \n",
    "         'r+', \n",
    "         alpha=.3, \n",
    "         label='renda_predict_log')\n",
    "plt.legend()\n",
    "plt.xticks(ticks=np.arange(stop=previsao_de_renda['tempo_emprego'].max(), \n",
    "                           step=1))\n",
    "plt.show()"
   ]
  },
  {
   "cell_type": "code",
   "execution_count": null,
   "metadata": {},
   "outputs": [],
   "source": [
    "previsao_de_renda[['sexo', \n",
    "                   'posse_de_imovel', \n",
    "                   'idade', \n",
    "                   'tempo_emprego',\n",
    "                   'renda','renda_predict','renda_predict_log', \n",
    "                   'res', 'res_log']]"
   ]
  }
 ],
 "metadata": {
  "kernelspec": {
   "display_name": "Python 3 (ipykernel)",
   "language": "python",
   "name": "python3"
  },
  "language_info": {
   "codemirror_mode": {
    "name": "ipython",
    "version": 3
   },
   "file_extension": ".py",
   "mimetype": "text/x-python",
   "name": "python",
   "nbconvert_exporter": "python",
   "pygments_lexer": "ipython3",
   "version": "3.11.7"
  }
 },
 "nbformat": 4,
 "nbformat_minor": 4
}
