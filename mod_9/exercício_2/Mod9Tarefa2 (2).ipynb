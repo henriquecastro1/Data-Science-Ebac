{
 "cells": [
  {
   "cell_type": "markdown",
   "metadata": {
    "id": "eYvCczy6lTt7"
   },
   "source": [
    "# Livro para consulta:\n",
    "- https://jakevdp.github.io/PythonDataScienceHandbook/03.08-aggregation-and-grouping.html\n",
    "- https://jakevdp.github.io/PythonDataScienceHandbook/03.09-pivot-tables.html\n",
    "    "
   ]
  },
  {
   "cell_type": "markdown",
   "metadata": {
    "id": "oeWprAfnlTt-"
   },
   "source": [
    "# 1. Importando bibliotecas <a name=\"import\"></a>\n",
    "\n",
    "<div style=\"text-align: right\"\n",
    "     \n",
    "[Voltar ao índice](#Contents)"
   ]
  },
  {
   "cell_type": "code",
   "execution_count": null,
   "metadata": {
    "ExecuteTime": {
     "end_time": "2021-06-06T21:12:37.298706Z",
     "start_time": "2021-06-06T21:12:36.656481Z"
    },
    "id": "y_9gYudilTt_"
   },
   "outputs": [],
   "source": [
    "import numpy as np\n",
    "import pandas as pd\n",
    "import seaborn as sns\n",
    "import matplotlib.pyplot as plt\n",
    "\n",
    "%matplotlib inline"
   ]
  },
  {
   "cell_type": "markdown",
   "metadata": {
    "id": "-cpxC-IBlTuA"
   },
   "source": [
    "# 2. Carregando o dataframe SINASC <a name=\"read\"></a>\n",
    "<div style=\"text-align: right\"\n",
    "     \n",
    "[Voltar ao índice](#Contents)"
   ]
  },
  {
   "cell_type": "code",
   "execution_count": null,
   "metadata": {
    "ExecuteTime": {
     "end_time": "2021-06-06T21:12:37.762376Z",
     "start_time": "2021-06-06T21:12:37.728383Z"
    },
    "id": "nQZn7u4DlTuB",
    "outputId": "74b44036-69d9-4139-b291-621d77ed331b",
    "scrolled": true
   },
   "outputs": [
    {
     "data": {
      "text/html": [
       "<div>\n",
       "<style scoped>\n",
       "    .dataframe tbody tr th:only-of-type {\n",
       "        vertical-align: middle;\n",
       "    }\n",
       "\n",
       "    .dataframe tbody tr th {\n",
       "        vertical-align: top;\n",
       "    }\n",
       "\n",
       "    .dataframe thead th {\n",
       "        text-align: right;\n",
       "    }\n",
       "</style>\n",
       "<table border=\"1\" class=\"dataframe\">\n",
       "  <thead>\n",
       "    <tr style=\"text-align: right;\">\n",
       "      <th></th>\n",
       "      <th>ORIGEM</th>\n",
       "      <th>CODESTAB</th>\n",
       "      <th>CODMUNNASC</th>\n",
       "      <th>LOCNASC</th>\n",
       "      <th>IDADEMAE</th>\n",
       "      <th>ESTCIVMAE</th>\n",
       "      <th>ESCMAE</th>\n",
       "      <th>CODOCUPMAE</th>\n",
       "      <th>QTDFILVIVO</th>\n",
       "      <th>QTDFILMORT</th>\n",
       "      <th>...</th>\n",
       "      <th>KOTELCHUCK</th>\n",
       "      <th>CONTADOR</th>\n",
       "      <th>munResStatus</th>\n",
       "      <th>munResTipo</th>\n",
       "      <th>munResNome</th>\n",
       "      <th>munResUf</th>\n",
       "      <th>munResLat</th>\n",
       "      <th>munResLon</th>\n",
       "      <th>munResAlt</th>\n",
       "      <th>munResArea</th>\n",
       "    </tr>\n",
       "  </thead>\n",
       "  <tbody>\n",
       "    <tr>\n",
       "      <th>0</th>\n",
       "      <td>1</td>\n",
       "      <td>2679477.0</td>\n",
       "      <td>110001</td>\n",
       "      <td>1</td>\n",
       "      <td>19</td>\n",
       "      <td>5.0</td>\n",
       "      <td>8 a 11 anos</td>\n",
       "      <td>NaN</td>\n",
       "      <td>0.0</td>\n",
       "      <td>0.0</td>\n",
       "      <td>...</td>\n",
       "      <td>5</td>\n",
       "      <td>1</td>\n",
       "      <td>ATIVO</td>\n",
       "      <td>MUNIC</td>\n",
       "      <td>Alta Floresta D'Oeste</td>\n",
       "      <td>Rondônia</td>\n",
       "      <td>-11.93554</td>\n",
       "      <td>-61.99982</td>\n",
       "      <td>338.0</td>\n",
       "      <td>7067.025</td>\n",
       "    </tr>\n",
       "    <tr>\n",
       "      <th>1</th>\n",
       "      <td>1</td>\n",
       "      <td>2679477.0</td>\n",
       "      <td>110001</td>\n",
       "      <td>1</td>\n",
       "      <td>29</td>\n",
       "      <td>2.0</td>\n",
       "      <td>8 a 11 anos</td>\n",
       "      <td>999992.0</td>\n",
       "      <td>1.0</td>\n",
       "      <td>0.0</td>\n",
       "      <td>...</td>\n",
       "      <td>5</td>\n",
       "      <td>2</td>\n",
       "      <td>ATIVO</td>\n",
       "      <td>MUNIC</td>\n",
       "      <td>Alta Floresta D'Oeste</td>\n",
       "      <td>Rondônia</td>\n",
       "      <td>-11.93554</td>\n",
       "      <td>-61.99982</td>\n",
       "      <td>338.0</td>\n",
       "      <td>7067.025</td>\n",
       "    </tr>\n",
       "    <tr>\n",
       "      <th>2</th>\n",
       "      <td>1</td>\n",
       "      <td>2679477.0</td>\n",
       "      <td>110001</td>\n",
       "      <td>1</td>\n",
       "      <td>37</td>\n",
       "      <td>9.0</td>\n",
       "      <td>8 a 11 anos</td>\n",
       "      <td>513205.0</td>\n",
       "      <td>2.0</td>\n",
       "      <td>0.0</td>\n",
       "      <td>...</td>\n",
       "      <td>5</td>\n",
       "      <td>3</td>\n",
       "      <td>ATIVO</td>\n",
       "      <td>MUNIC</td>\n",
       "      <td>Alta Floresta D'Oeste</td>\n",
       "      <td>Rondônia</td>\n",
       "      <td>-11.93554</td>\n",
       "      <td>-61.99982</td>\n",
       "      <td>338.0</td>\n",
       "      <td>7067.025</td>\n",
       "    </tr>\n",
       "    <tr>\n",
       "      <th>3</th>\n",
       "      <td>1</td>\n",
       "      <td>2516500.0</td>\n",
       "      <td>110001</td>\n",
       "      <td>1</td>\n",
       "      <td>30</td>\n",
       "      <td>5.0</td>\n",
       "      <td>12 anos ou mais</td>\n",
       "      <td>231205.0</td>\n",
       "      <td>0.0</td>\n",
       "      <td>0.0</td>\n",
       "      <td>...</td>\n",
       "      <td>4</td>\n",
       "      <td>4</td>\n",
       "      <td>ATIVO</td>\n",
       "      <td>MUNIC</td>\n",
       "      <td>Alto Alegre dos Parecis</td>\n",
       "      <td>Rondônia</td>\n",
       "      <td>-12.13178</td>\n",
       "      <td>-61.85308</td>\n",
       "      <td>397.0</td>\n",
       "      <td>3958.273</td>\n",
       "    </tr>\n",
       "    <tr>\n",
       "      <th>4</th>\n",
       "      <td>1</td>\n",
       "      <td>2516500.0</td>\n",
       "      <td>110001</td>\n",
       "      <td>1</td>\n",
       "      <td>30</td>\n",
       "      <td>2.0</td>\n",
       "      <td>8 a 11 anos</td>\n",
       "      <td>999992.0</td>\n",
       "      <td>1.0</td>\n",
       "      <td>0.0</td>\n",
       "      <td>...</td>\n",
       "      <td>5</td>\n",
       "      <td>5</td>\n",
       "      <td>ATIVO</td>\n",
       "      <td>MUNIC</td>\n",
       "      <td>Alta Floresta D'Oeste</td>\n",
       "      <td>Rondônia</td>\n",
       "      <td>-11.93554</td>\n",
       "      <td>-61.99982</td>\n",
       "      <td>338.0</td>\n",
       "      <td>7067.025</td>\n",
       "    </tr>\n",
       "  </tbody>\n",
       "</table>\n",
       "<p>5 rows × 69 columns</p>\n",
       "</div>"
      ],
      "text/plain": [
       "   ORIGEM   CODESTAB  CODMUNNASC  LOCNASC  IDADEMAE  ESTCIVMAE  \\\n",
       "0       1  2679477.0      110001        1        19        5.0   \n",
       "1       1  2679477.0      110001        1        29        2.0   \n",
       "2       1  2679477.0      110001        1        37        9.0   \n",
       "3       1  2516500.0      110001        1        30        5.0   \n",
       "4       1  2516500.0      110001        1        30        2.0   \n",
       "\n",
       "            ESCMAE  CODOCUPMAE  QTDFILVIVO  QTDFILMORT  ...  KOTELCHUCK  \\\n",
       "0      8 a 11 anos         NaN         0.0         0.0  ...           5   \n",
       "1      8 a 11 anos    999992.0         1.0         0.0  ...           5   \n",
       "2      8 a 11 anos    513205.0         2.0         0.0  ...           5   \n",
       "3  12 anos ou mais    231205.0         0.0         0.0  ...           4   \n",
       "4      8 a 11 anos    999992.0         1.0         0.0  ...           5   \n",
       "\n",
       "  CONTADOR munResStatus munResTipo               munResNome  munResUf  \\\n",
       "0        1        ATIVO      MUNIC    Alta Floresta D'Oeste  Rondônia   \n",
       "1        2        ATIVO      MUNIC    Alta Floresta D'Oeste  Rondônia   \n",
       "2        3        ATIVO      MUNIC    Alta Floresta D'Oeste  Rondônia   \n",
       "3        4        ATIVO      MUNIC  Alto Alegre dos Parecis  Rondônia   \n",
       "4        5        ATIVO      MUNIC    Alta Floresta D'Oeste  Rondônia   \n",
       "\n",
       "   munResLat munResLon  munResAlt  munResArea  \n",
       "0  -11.93554 -61.99982      338.0    7067.025  \n",
       "1  -11.93554 -61.99982      338.0    7067.025  \n",
       "2  -11.93554 -61.99982      338.0    7067.025  \n",
       "3  -12.13178 -61.85308      397.0    3958.273  \n",
       "4  -11.93554 -61.99982      338.0    7067.025  \n",
       "\n",
       "[5 rows x 69 columns]"
      ]
     },
     "execution_count": 2,
     "metadata": {},
     "output_type": "execute_result"
    }
   ],
   "source": [
    "sinasc_raw = pd.read_csv('SINASC_RO_2019.csv')\n",
    "sinasc_raw.head()"
   ]
  },
  {
   "cell_type": "code",
   "execution_count": null,
   "metadata": {
    "id": "Pz_6GorclTuC"
   },
   "outputs": [],
   "source": [
    "pd.set_option('display.max_columns', None)\n",
    "\n",
    "sinasc_raw.select_dtypes(exclude='object').describe()"
   ]
  },
  {
   "cell_type": "markdown",
   "metadata": {
    "id": "9GOoel3-lTuD"
   },
   "source": [
    "# Tarefa 2"
   ]
  },
  {
   "cell_type": "markdown",
   "metadata": {
    "id": "iNNeWswTlTuD"
   },
   "source": [
    "### 1. Crie 2 faixas de Latitude do município (munResLat) sendo uma acima e outra abaixo de -10.5 e aplique o groupby usando essas faixas como chave e realize operações de soma, media, minimo, maximo, mediana, desvio padrao, variancia pra pelo menos 2 variáveis numéricas ainda não utilizadas"
   ]
  },
  {
   "cell_type": "code",
   "execution_count": null,
   "metadata": {
    "id": "HXtelNbnlTuE"
   },
   "outputs": [],
   "source": [
    "faixas_latitude = pd.cut(x=sinasc_raw['munResLat'], \n",
    "                         bins=[sinasc_raw.munResLat.min(),\n",
    "                               -10.5,\n",
    "                               sinasc_raw.munResLat.max()\n",
    "                              ])\n",
    "pd.pivot_table(data=sinasc_raw, \n",
    "               values=['munResLon','munResAlt'], \n",
    "               index=faixas_latitude, \n",
    "               aggfunc={('Soma',sum),\n",
    "                        ('Média','mean'),\n",
    "                        ('Mín',min),\n",
    "                        ('Máx',max),\n",
    "                        ('Mediana','median'),\n",
    "                        ('Desvio padrão','std'), \n",
    "                        ('Variância',np.var)\n",
    "                       }, \n",
    "               dropna=False, \n",
    "               sort=False).rename(\n",
    "    columns={'munResLon': 'Longitude do município de residência', \n",
    "             'munResAlt': 'Altitude do município de residência'})"
   ]
  },
  {
   "cell_type": "markdown",
   "metadata": {
    "id": "AK33D0mdlTuE"
   },
   "source": [
    "### 2. Crie 2 faixas da área dos municípios (munResArea) sendo uma acima e outra abaixo de 3000 e aplique o groupby usando essas faixas como chave e realize operações de soma, media, minimo, maximo, mediana, desvio padrao, variancia pra pelo menos 2 variáveis numéricas ainda não utilizadas\n"
   ]
  },
  {
   "cell_type": "code",
   "execution_count": null,
   "metadata": {
    "id": "qqCXJtYIlTuE"
   },
   "outputs": [],
   "source": [
    "faixas_area = pd.cut(x=sinasc_raw.munResArea, \n",
    "                     bins=[sinasc_raw.munResArea.min(), \n",
    "                           3000, \n",
    "                           sinasc_raw.munResArea.max()])\n",
    "\n",
    "pd.pivot_table(data=sinasc_raw, \n",
    "               values=['QTDGESTANT','SEMAGESTAC'], \n",
    "               index=faixas_area, \n",
    "               aggfunc={('Soma',sum),\n",
    "                        ('Média','mean'),\n",
    "                        ('Mín',min),\n",
    "                        ('Máx',max),\n",
    "                        ('Mediana','median'),\n",
    "                        ('Desvio padrão','std'), \n",
    "                        ('Variância',np.var)\n",
    "                       }, \n",
    "               dropna=False, \n",
    "               sort=False).rename(\n",
    "    columns={'QTDGESTANT': 'Número de gestações anteriores', \n",
    "             'SEMAGESTAC': 'Número de semanas de gestação'})"
   ]
  },
  {
   "cell_type": "markdown",
   "metadata": {
    "id": "aWaljnnxlTuE"
   },
   "source": [
    "### 3. Determine faixas na variável munResAlt e aplique o groupby usando essas faixas como chave e realize operações de soma, media, minimo, maximo, mediana, desvio padrao, variancia pra pelo menos 2 variáveis numéricas ainda não utilizadas"
   ]
  },
  {
   "cell_type": "code",
   "execution_count": null,
   "metadata": {},
   "outputs": [],
   "source": [
    "faixas_altitude = pd.qcut(x=sinasc_raw.munResAlt, q=4)\n",
    "\n",
    "pd.pivot_table(data=sinasc_raw, \n",
    "               values=['APGAR1','APGAR5'], \n",
    "               index=faixas_altitude, \n",
    "               aggfunc={('Soma',sum),\n",
    "                        ('Média','mean'),\n",
    "                        ('Mín',min),\n",
    "                        ('Máx',max),\n",
    "                        ('Mediana','median'),\n",
    "                        ('Desvio padrão','std'), \n",
    "                        ('Variância',np.var)\n",
    "                       }, \n",
    "               dropna=False, \n",
    "               sort=False)"
   ]
  },
  {
   "cell_type": "markdown",
   "metadata": {
    "id": "aF1riawJlTuF"
   },
   "source": [
    "### 4. Plote no mesmo grafico ao longo do tempo a idade media das mulheres de cada regiao imediatas de rondonia\n"
   ]
  },
  {
   "cell_type": "code",
   "execution_count": null,
   "metadata": {
    "id": "6aZM5xKale9c"
   },
   "outputs": [],
   "source": [
    "imediatas = {\n",
    "    \"Candeias do Jamari\": \"Porto Velho\",\n",
    "    \"Guajará-Mirim\": \"Porto Velho\",\n",
    "    \"Itapuã do Oeste\": \"Porto Velho\",\n",
    "    \"Nova Mamoré\": \"Porto Velho\",\n",
    "    \"Porto Velho\": \"Porto Velho\",\n",
    "    \n",
    "    \"Alto Paraíso\": \"Ariquemes\",\n",
    "    \"Ariquemes\": \"Ariquemes\",\n",
    "    \"Buritis\": \"Ariquemes\",\n",
    "    \"Cacaulândia\": \"Ariquemes\",\n",
    "    \"Campo Novo de Rondônia\": \"Ariquemes\",\n",
    "    \"Cujubim\": \"Ariquemes\",\n",
    "    \"Monte Negro\": \"Ariquemes\",\n",
    "    \"Rio Crespo\": \"Ariquemes\",\n",
    "    \n",
    "    \"Jaru\": \"Jaru\",\n",
    "    \"Governador Jorge Teixeira\": \"Jaru\",\n",
    "    \"Machadinho D'Oeste\": \"Jaru\",\n",
    "    \"Theobroma\": \"Jaru\",\n",
    "    \"Vale do Anari\": \"Jaru\",\n",
    "    \n",
    "    \"Alvorada D'Oeste\": \"Ji-Paraná\",\n",
    "    \"Costa Marques\": \"Ji-Paraná\",\n",
    "    \"Ji-Paraná\": \"Ji-Paraná\",\n",
    "    \"Mirante da Serra\": \"Ji-Paraná\",\n",
    "    \"Nova União\": \"Ji-Paraná\",\n",
    "    \"Ouro Preto do Oeste\": \"Ji-Paraná\",\n",
    "    \"Presidente Médici\": \"Ji-Paraná\",\n",
    "    \"São Francisco do Guaporé\": \"Ji-Paraná\",\n",
    "    \"São Miguel do Guaporé\": \"Ji-Paraná\",\n",
    "    \"Seringueiras\": \"Ji-Paraná\",\n",
    "    \"Teixeirópolis\": \"Ji-Paraná\",\n",
    "    \"Urupá\": \"Ji-Paraná\",\n",
    "    \"Vale do Paraíso\": \"Ji-Paraná\",\n",
    "    \n",
    "    \"Cacoal\": \"Cacoal\",\n",
    "    \"Alta Floresta D'Oeste\": \"Cacoal\",\n",
    "    \"Alto Alegre dos Parecis\": \"Cacoal\",\n",
    "    \"Castanheiras\": \"Cacoal\",\n",
    "    \"Espigão D'Oeste\": \"Cacoal\",\n",
    "    \"Ministro Andreazza\": \"Cacoal\",\n",
    "    \"Nova Brasilândia D'Oeste\": \"Cacoal\",\n",
    "    \"Novo Horizonte do Oeste\": \"Cacoal\",\n",
    "    \"Parecis\": \"Cacoal\",\n",
    "    \"Pimenta Bueno\": \"Cacoal\",\n",
    "    \"Primavera de Rondônia\": \"Cacoal\",\n",
    "    \"Rolim de Moura\": \"Cacoal\",\n",
    "    \"Santa Luzia D'Oeste\": \"Cacoal\",\n",
    "    \"São Felipe D'Oeste\": \"Cacoal\",\n",
    "    \n",
    "    \"Vilhena\": \"Vilhena\",\n",
    "    \"Cabixi\": \"Vilhena\",\n",
    "    \"Cerejeiras\": \"Vilhena\",\n",
    "    \"Chupinguaia\": \"Vilhena\",\n",
    "    \"Colorado do Oeste\": \"Vilhena\",\n",
    "    \"Corumbiara\": \"Vilhena\",\n",
    "    \"Pimenteiras do Oeste\": \"Vilhena\"\n",
    "}\n",
    "\n",
    "sinasc_raw.set_index(\n",
    "    ['munResNome']\n",
    ").groupby(by=[imediatas], \n",
    "          dropna=False)[['CONTADOR']].count()"
   ]
  },
  {
   "cell_type": "code",
   "execution_count": null,
   "metadata": {},
   "outputs": [],
   "source": [
    "sinasc_munResNome = sinasc_raw.copy()\n",
    "sinasc_munResNome.set_index(keys='munResNome', inplace=True)\n",
    "\n",
    "sinasc_munResNome = pd.pivot_table(\n",
    "    data=sinasc_munResNome, \n",
    "    values='IDADEMAE',\n",
    "    index=['DTNASC',imediatas], \n",
    "    aggfunc='mean', \n",
    "    dropna=False, \n",
    "    sort=True).rename(columns={'IDADEMAE':'Idade média das mães'})\n",
    "\n",
    "sinasc_munResNome"
   ]
  },
  {
   "cell_type": "code",
   "execution_count": null,
   "metadata": {},
   "outputs": [],
   "source": [
    "sinasc_idademae_imediata = sinasc_munResNome.rename_axis(\n",
    "    index={'munResNome':'Região imediata de Rondônia'}\n",
    ").unstack()\n",
    "\n",
    "sinasc_idademae_imediata"
   ]
  },
  {
   "cell_type": "code",
   "execution_count": null,
   "metadata": {},
   "outputs": [],
   "source": [
    "pd.pivot_table(data=sinasc_idademae_imediata['Idade média das mães'], \n",
    "               index='DTNASC', \n",
    "               margins=True, \n",
    "               margins_name='Média total')"
   ]
  },
  {
   "cell_type": "code",
   "execution_count": null,
   "metadata": {},
   "outputs": [],
   "source": [
    "plt.subplots(figsize=(18,6))\n",
    "sns.barplot(x='munResNome', \n",
    "            y='Idade média das mães', \n",
    "            data=sinasc_munResNome.groupby('munResNome').mean().reset_index());\n",
    "plt.xlabel(xlabel='Região imediata de Rondônia')\n",
    "plt.ylabel(ylabel='Idade média das mães')\n",
    "\n",
    "\n",
    "sinasc_idademae_imediata['Idade média das mães'].plot(figsize=(18,9))\n",
    "plt.xlabel(xlabel='')\n",
    "plt.ylabel(ylabel='Idade média das mães');"
   ]
  },
  {
   "cell_type": "markdown",
   "metadata": {
    "id": "yt-LIWxblTuF"
   },
   "source": [
    "### 5. Utilize a tabela do link abaixo e crie faixas utilizando o mapping e gere agrupamentos utilizando essas faixas como chave\n"
   ]
  },
  {
   "cell_type": "markdown",
   "metadata": {
    "id": "moZakjgIlTuF"
   },
   "source": [
    "### 5.1 IDH\n",
    "A - https://pt.wikipedia.org/wiki/Lista_de_munic%C3%ADpios_de_Rond%C3%B4nia_por_IDH-M\n"
   ]
  },
  {
   "cell_type": "code",
   "execution_count": null,
   "metadata": {
    "id": "DaJk66_BlTuF"
   },
   "outputs": [],
   "source": [
    "idh = {\n",
    "    \"Porto Velho\": \"IDH-M alto\",\n",
    "    \"Vilhena\": \"IDH-M alto\",\n",
    "    \"Cacoal\": \"IDH-M alto\",\n",
    "    \"Ji-Paraná\": \"IDH-M alto\",\n",
    "    \"Pimenta Bueno\": \"IDH-M alto\",\n",
    "    \"Ariquemes\": \"IDH-M alto\",\n",
    "    \"Rolim de Moura\": \"IDH-M alto\",\n",
    "    \n",
    "    \"Cerejeiras\": \"IDH-M médio\",\n",
    "    \"Jaru\": \"IDH-M médio\",\n",
    "    \"Colorado do Oeste\": \"IDH-M médio\",\n",
    "    \"Ouro Preto do Oeste\": \"IDH-M médio\",\n",
    "    \"Espigão D'Oeste\": \"IDH-M médio\",\n",
    "    \"Santa Luzia D'Oeste\": \"IDH-M médio\",\n",
    "    \"Pimenteiras do Oeste\": \"IDH-M médio\",\n",
    "    \"Presidente Médici\": \"IDH-M médio\",\n",
    "    \"Castanheiras\": \"IDH-M médio\",\n",
    "    \"Guajará-Mirim\": \"IDH-M médio\",\n",
    "    \"Chupinguaia\": \"IDH-M médio\",\n",
    "    \"Cabixi\": \"IDH-M médio\",\n",
    "    \"Candeias do Jamari\":  \"IDH-M médio\",\n",
    "    \"São Felipe D'Oeste\": \"IDH-M médio\",\n",
    "    \"Cacaulândia\": \"IDH-M médio\",\n",
    "    \"São Miguel do Guaporé\": \"IDH-M médio\",\n",
    "    \"Mirante da Serra\": \"IDH-M médio\",\n",
    "    \"Alvorada D'Oeste\": \"IDH-M médio\",\n",
    "    \"Teixeirópolis\": \"IDH-M médio\",\n",
    "    \"Nova Brasilândia D'Oeste\": \"IDH-M médio\",\n",
    "    \"Rio Crespo\": \"IDH-M médio\",\n",
    "    \"Primavera de Rondônia\": \"IDH-M médio\",\n",
    "    \"Alta Floresta D'Oeste\": \"IDH-M médio\",\n",
    "    \"Ministro Andreazza\": \"IDH-M médio\",\n",
    "    \"Novo Horizonte do Oeste\": \"IDH-M médio\",\n",
    "    \"Vale do Paraíso\": \"IDH-M médio\",\n",
    "    \"Alto Paraíso\": \"IDH-M médio\",\n",
    "    \"Parecis\": \"IDH-M médio\",\n",
    "    \"Buritis\": \"IDH-M médio\",\n",
    "    \"Itapuã do Oeste\": \"IDH-M médio\",\n",
    "    \"Corumbiara\": \"IDH-M médio\",\n",
    "    \"Cujubim\": \"IDH-M médio\",\n",
    "    \"Costa Marques\": \"IDH-M médio\",\n",
    "    \"São Francisco do Guaporé\": \"IDH-M médio\",\n",
    "    \"Urupá\": \"IDH-M médio\",\n",
    "    \"Monte Negro\": \"IDH-M médio\",\n",
    "    \n",
    "    \"Seringueiras\": \"IDH-M baixo\",\n",
    "    \"Governador Jorge Teixeira\": \"IDH-M baixo\",\n",
    "    \"Machadinho D'Oeste\": \"IDH-M baixo\",\n",
    "    \"Campo Novo de Rondônia\": \"IDH-M baixo\",\n",
    "    \"Alto Alegre dos Parecis\": \"IDH-M baixo\",\n",
    "    \"Theobroma\": \"IDH-M baixo\",\n",
    "    \"Nova União\": \"IDH-M baixo\",\n",
    "    \"Nova Mamoré\": \"IDH-M baixo\",\n",
    "    \"Vale do Anari\": \"IDH-M baixo\"\n",
    "}\n",
    "\n",
    "sinasc_raw.set_index(\n",
    "    ['munResNome']\n",
    "# ).groupby(by=['munResNome', idh],   # Checando ortografia dos municípios\n",
    ").groupby(by=[idh],\n",
    "          dropna=False)[['CONTADOR']].count()"
   ]
  },
  {
   "cell_type": "code",
   "execution_count": null,
   "metadata": {},
   "outputs": [],
   "source": [
    "sinasc_munResNome = sinasc_raw.copy()\n",
    "\n",
    "sinasc_idh = sinasc_munResNome[['munResNome',\n",
    "                                'APGAR5', 'QTDGESTANT', 'CONSULTAS', 'IDADEMAE']]\n",
    "\n",
    "sinasc_idh.set_index(keys='munResNome', \n",
    "                     inplace=True)\n",
    "\n",
    "sinasc_idh.groupby(by=idh, \n",
    "                   dropna=False, \n",
    "                   sort=True\n",
    "                  ).agg([('Qtd','count'), \n",
    "                         ('Mín','min'), \n",
    "                         ('Máx','max'), \n",
    "                         ('Mediana','median')]\n",
    "                       ).rename(columns={'QTDGESTANT':'Número de gestações anteriores', \n",
    "                                         'CONSULTAS':'Número de consultas de pré-natal'})"
   ]
  },
  {
   "cell_type": "markdown",
   "metadata": {
    "id": "zhtI6CxtlTuH"
   },
   "source": [
    "### 5.2 IFDM\n",
    "B - https://pt.wikipedia.org/wiki/Lista_de_munic%C3%ADpios_de_Rond%C3%B4nia_por_IFDM\n"
   ]
  },
  {
   "cell_type": "code",
   "execution_count": null,
   "metadata": {
    "id": "1AVkd1M3lTuI"
   },
   "outputs": [],
   "source": [
    "ifdm = {\n",
    "    \"Ariquemes\": \"IFDM Desenvolvimento moderado\",\n",
    "    \"Vilhena\": \"IFDM Desenvolvimento moderado\",\n",
    "    \"Pimenta Bueno\": \"IFDM Desenvolvimento moderado\",\n",
    "    \"Porto Velho\": \"IFDM Desenvolvimento moderado\",\n",
    "    \"Ji-Paraná\": \"IFDM Desenvolvimento moderado\",\n",
    "    \"Cacoal\": \"IFDM Desenvolvimento moderado\",\n",
    "    \"Santa Luzia D'Oeste\": \"IFDM Desenvolvimento moderado\",\n",
    "    \"Rolim de Moura\": \"IFDM Desenvolvimento moderado\",\n",
    "    \"Chupinguaia\": \"IFDM Desenvolvimento moderado\",\n",
    "    \"São Miguel do Guaporé\": \"IFDM Desenvolvimento moderado\",\n",
    "    \"Pimenteiras do Oeste\": \"IFDM Desenvolvimento moderado\",\n",
    "    \"Teixeirópolis\": \"IFDM Desenvolvimento moderado\",\n",
    "    \"Colorado do Oeste\": \"IFDM Desenvolvimento moderado\",\n",
    "    \"Jaru\": \"IFDM Desenvolvimento moderado\",\n",
    "    \"Rio Crespo\": \"IFDM Desenvolvimento moderado\",\n",
    "    \"Primavera de Rondônia\": \"IFDM Desenvolvimento moderado\",\n",
    "    \"Alta Floresta D'Oeste\": \"IFDM Desenvolvimento moderado\",\n",
    "    \"Ouro Preto do Oeste\": \"IFDM Desenvolvimento moderado\",\n",
    "    \"São Francisco do Guaporé\": \"IFDM Desenvolvimento moderado\",\n",
    "    \"Candeias do Jamari\": \"IFDM Desenvolvimento moderado\",\n",
    "    \"Buritis\": \"IFDM Desenvolvimento moderado\",\n",
    "    \"São Felipe D'Oeste\": \"IFDM Desenvolvimento moderado\",\n",
    "    \"Presidente Médici\": \"IFDM Desenvolvimento moderado\",\n",
    "    \"Cerejeiras\": \"IFDM Desenvolvimento moderado\",\n",
    "    \"Monte Negro\": \"IFDM Desenvolvimento moderado\",\n",
    "    \"Urupá\": \"IFDM Desenvolvimento moderado\",\n",
    "        \n",
    "    \"Espigão D'Oeste\": \"IFDM Desenvolvimento regular\",\n",
    "    \"Seringueiras\": \"IFDM Desenvolvimento regular\",\n",
    "    \"Alvorada D'Oeste\": \"IFDM Desenvolvimento regular\",\n",
    "    \"Itapuã do Oeste\": \"IFDM Desenvolvimento regular\",\n",
    "    \"Cabixi\": \"IFDM Desenvolvimento regular\",\n",
    "    \"Novo Horizonte do Oeste\": \"IFDM Desenvolvimento regular\",\n",
    "    \"Nova Brasilândia D'Oeste\": \"IFDM Desenvolvimento regular\",\n",
    "    \"Vale do Paraíso\": \"IFDM Desenvolvimento regular\",\n",
    "    \"Corumbiara\": \"IFDM Desenvolvimento regular\",\n",
    "    \"Alto Paraíso\": \"IFDM Desenvolvimento regular\",\n",
    "    \"Cacaulândia\": \"IFDM Desenvolvimento regular\",\n",
    "    \"Vale do Anari\": \"IFDM Desenvolvimento regular\",\n",
    "    \"Ministro Andreazza\": \"IFDM Desenvolvimento regular\",\n",
    "    \"Costa Marques\": \"IFDM Desenvolvimento regular\",\n",
    "    \"Nova União\": \"IFDM Desenvolvimento regular\",\n",
    "    \"Guajará-Mirim\": \"IFDM Desenvolvimento regular\",\n",
    "    \"Mirante da Serra\": \"IFDM Desenvolvimento regular\",\n",
    "    \"Parecis\": \"IFDM Desenvolvimento regular\",\n",
    "    \"Castanheiras\": \"IFDM Desenvolvimento regular\",\n",
    "    \"Theobroma\": \"IFDM Desenvolvimento regular\",\n",
    "    \"Machadinho D'Oeste\": \"IFDM Desenvolvimento regular\",\n",
    "    \"Campo Novo de Rondônia\": \"IFDM Desenvolvimento regular\",\n",
    "    \"Nova Mamoré\": \"IFDM Desenvolvimento regular\",\n",
    "    \"Cujubim\": \"IFDM Desenvolvimento regular\",\n",
    "    \"Alto Alegre dos Parecis\": \"IFDM Desenvolvimento regular\",\n",
    "    \"Governador Jorge Teixeira\": \"IFDM Desenvolvimento regular\",\n",
    "}\n",
    "\n",
    "sinasc_raw.set_index(\n",
    "    ['munResNome']\n",
    "# ).groupby(by=['munResNome', ifdm],   # Checando ortografia dos municípios\n",
    ").groupby(by=[ifdm], \n",
    "          dropna=False)[['CONTADOR']].count()"
   ]
  },
  {
   "cell_type": "code",
   "execution_count": null,
   "metadata": {},
   "outputs": [],
   "source": [
    "sinasc_ifdm = sinasc_munResNome[['munResNome',\n",
    "                                 'APGAR5', 'QTDGESTANT', 'CONSULTAS', 'IDADEMAE']]\n",
    "\n",
    "sinasc_ifdm.set_index(keys='munResNome', \n",
    "                      inplace=True)\n",
    "\n",
    "sinasc_ifdm.groupby(by=[ifdm], \n",
    "                    dropna=False, \n",
    "                    sort=True\n",
    "                   ).agg([('Qtd','count'), \n",
    "                         ('Mín','min'), \n",
    "                         ('Máx','max'), \n",
    "                         ('Mediana','median')]\n",
    "                        ).rename(columns={'QTDGESTANT':'Número de gestações anteriores', \n",
    "                                         'CONSULTAS':'Número de consultas de pré-natal'})"
   ]
  },
  {
   "cell_type": "markdown",
   "metadata": {
    "id": "BwdS46EWlTuI"
   },
   "source": [
    "### 5.3 PIB\n",
    "C - https://pt.wikipedia.org/wiki/Lista_de_munic%C3%ADpios_de_Rond%C3%B4nia_por_PIB\n"
   ]
  },
  {
   "cell_type": "markdown",
   "metadata": {
    "id": "bdWGW_xtlTuI"
   },
   "source": [
    "### Analise as respostas encontradas, tire algum insight delas, conte pra gente algo encontrado nos dados."
   ]
  },
  {
   "cell_type": "markdown",
   "metadata": {
    "id": "shZvokfBlTuI"
   },
   "source": [
    "Exemplo:\n",
    "- Ah, descobri que a idade mediana das mulheres que deram a luz no ano de 2019 dos municipios com o PIB mais alto é a maior dentre todas."
   ]
  },
  {
   "cell_type": "code",
   "execution_count": null,
   "metadata": {
    "id": "f8P7BYYglTuJ"
   },
   "outputs": [],
   "source": [
    "pib = {\n",
    "    \"Porto Velho\": \"PIB Acima de 1 Bilhão\",\n",
    "    \"Ji-Paraná\": \"PIB Acima de 1 Bilhão\",\n",
    "    \"Vilhena\": \"PIB Acima de 1 Bilhão\",\n",
    "    \"Ariquemes\": \"PIB Acima de 1 Bilhão\",\n",
    "    \"Cacoal\": \"PIB Acima de 1 Bilhão\",\n",
    "    \"Jaru\": \"PIB Acima de 1 Bilhão\",\n",
    "    \"Rolim de Moura\": \"PIB Acima de 1 Bilhão\",\n",
    "    \"Pimenta Bueno\": \"PIB Acima de 1 Bilhão\",\n",
    "\n",
    "    \"Guajará-Mirim\": \"PIB Acima de 500 Milhões\",\n",
    "    \"Ouro Preto do Oeste\": \"PIB Acima de 500 Milhões\",\n",
    "    \"Buritis\": \"PIB Acima de 500 Milhões\",\n",
    "    \"Machadinho D'Oeste\": \"PIB Acima de 500 Milhões\",\n",
    "    \"Espigão D'Oeste\": \"PIB Acima de 500 Milhões\",\n",
    "    \"São Miguel do Guaporé\": \"PIB Acima de 500 Milhões\",\n",
    "    \"Candeias do Jamari\": \"PIB Acima de 500 Milhões\",\n",
    "    \"Nova Mamoré\": \"PIB Acima de 500 Milhões\",\n",
    "    \"Cerejeiras\": \"PIB Acima de 500 Milhões\",\n",
    "\n",
    "    \"Alta Floresta D'Oeste\": \"PIB Acima de 300 Milhões\",\n",
    "    \"Presidente Médici\": \"PIB Acima de 300 Milhões\",\n",
    "    \"Cujubim\": \"PIB Acima de 300 Milhões\",\n",
    "    \"Nova Brasilândia D'Oeste\": \"PIB Acima de 300 Milhões\",\n",
    "    \"Alto Paraíso\": \"PIB Acima de 300 Milhões\",\n",
    "    \"São Francisco do Guaporé\": \"PIB Acima de 300 Milhões\",\n",
    "    \"Colorado do Oeste\": \"PIB Acima de 300 Milhões\",\n",
    "\n",
    "    \"Monte Negro\": \"PIB Acima de 200 Milhões\",\n",
    "    \"Alto Alegre dos Parecis\": \"PIB Acima de 200 Milhões\",\n",
    "    \"Campo Novo de Rondônia\": \"PIB Acima de 200 Milhões\",\n",
    "    \"Alvorada D'Oeste\": \"PIB Acima de 200 Milhões\",\n",
    "\n",
    "    \"Chupinguaia\": \"PIB Acima de 100 Milhões\",\n",
    "    \"Corumbiara\": \"PIB Acima de 100 Milhões\",\n",
    "    \"Ministro Andreazza\": \"PIB Acima de 100 Milhões\",\n",
    "    \"Urupá\": \"PIB Acima de 100 Milhões\",\n",
    "    \"Costa Marques\": \"PIB Acima de 100 Milhões\",\n",
    "    \"Seringueiras\": \"PIB Acima de 100 Milhões\",\n",
    "    \"Mirante da Serra\": \"PIB Acima de 100 Milhões\",\n",
    "    \"Governador Jorge Teixeira\": \"PIB Acima de 100 Milhões\",\n",
    "    \"Theobroma\": \"PIB Acima de 100 Milhões\",\n",
    "    \"Santa Luzia D'Oeste\": \"PIB Acima de 100 Milhões\",\n",
    "    \"Novo Horizonte do Oeste\": \"PIB Acima de 100 Milhões\",\n",
    "    \"Itapuã do Oeste\": \"PIB Acima de 100 Milhões\",\n",
    "    \"Vale do Paraíso\": \"PIB Acima de 100 Milhões\",\n",
    "    \"Cacaulândia\": \"PIB Acima de 100 Milhões\",\n",
    "    \"Cabixi\": \"PIB Acima de 100 Milhões\",\n",
    "    \"Vale do Anari\": \"PIB Acima de 100 Milhões\",\n",
    "\n",
    "    \"Nova União\": \"PIB Até 100 Milhões\",\n",
    "    \"Parecis\": \"PIB Até 100 Milhões\",\n",
    "    \"Rio Crespo\": \"PIB Até 100 Milhões\",\n",
    "    \"Pimenteiras do Oeste\": \"PIB Até 100 Milhões\",\n",
    "    \"Teixeirópolis\": \"PIB Até 100 Milhões\",\n",
    "    \"São Felipe D'Oeste\": \"PIB Até 100 Milhões\",\n",
    "    \"Castanheiras\": \"PIB Até 100 Milhões\",\n",
    "    \"Primavera de Rondônia\": \"PIB Até 100 Milhões\",\n",
    "}\n",
    "\n",
    "sinasc_raw.set_index(\n",
    "    ['munResNome']\n",
    "# ).groupby(by=['munResNome', pib],   # Checando ortografia dos municípios\n",
    ").groupby(by=[pib], \n",
    "          dropna=False)[['CONTADOR']].count()"
   ]
  },
  {
   "cell_type": "code",
   "execution_count": null,
   "metadata": {},
   "outputs": [],
   "source": [
    "sinasc_pib = sinasc_munResNome[['munResNome',\n",
    "                                'APGAR5', 'QTDGESTANT', 'CONSULTAS', 'IDADEMAE']]\n",
    "\n",
    "sinasc_pib.set_index(keys='munResNome', \n",
    "                     inplace=True)\n",
    "\n",
    "sinasc_pib.groupby(by=pib, \n",
    "                   dropna=False, \n",
    "                   sort=True\n",
    "                  ).agg([('Qtd','count'), \n",
    "                         ('Mín','min'), \n",
    "                         ('Máx','max'), \n",
    "                         ('Mediana','median')]\n",
    "                       ).rename(columns={'QTDGESTANT':'Número de gestações anteriores', \n",
    "                                         'CONSULTAS':'Número de consultas de pré-natal'})"
   ]
  }
 ],
 "metadata": {
  "colab": {
   "provenance": []
  },
  "kernelspec": {
   "display_name": "Python 3 (ipykernel)",
   "language": "python",
   "name": "python3"
  },
  "language_info": {
   "codemirror_mode": {
    "name": "ipython",
    "version": 3
   },
   "file_extension": ".py",
   "mimetype": "text/x-python",
   "name": "python",
   "nbconvert_exporter": "python",
   "pygments_lexer": "ipython3",
   "version": "3.11.7"
  },
  "varInspector": {
   "cols": {
    "lenName": 16,
    "lenType": 16,
    "lenVar": 40
   },
   "kernels_config": {
    "python": {
     "delete_cmd_postfix": "",
     "delete_cmd_prefix": "del ",
     "library": "var_list.py",
     "varRefreshCmd": "print(var_dic_list())"
    },
    "r": {
     "delete_cmd_postfix": ") ",
     "delete_cmd_prefix": "rm(",
     "library": "var_list.r",
     "varRefreshCmd": "cat(var_dic_list()) "
    }
   },
   "types_to_exclude": [
    "module",
    "function",
    "builtin_function_or_method",
    "instance",
    "_Feature"
   ],
   "window_display": false
  }
 },
 "nbformat": 4,
 "nbformat_minor": 1
}
