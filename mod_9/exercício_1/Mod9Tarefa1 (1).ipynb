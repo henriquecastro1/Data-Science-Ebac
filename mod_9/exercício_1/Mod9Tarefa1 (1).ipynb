{
 "cells": [
  {
   "cell_type": "markdown",
   "metadata": {},
   "source": [
    "# Livro para consulta:\n",
    "- https://jakevdp.github.io/PythonDataScienceHandbook/03.08-aggregation-and-grouping.html\n",
    "- https://jakevdp.github.io/PythonDataScienceHandbook/03.09-pivot-tables.html\n",
    "    "
   ]
  },
  {
   "cell_type": "markdown",
   "metadata": {},
   "source": [
    "# 1. Importando bibliotecas <a name=\"import\"></a>\n",
    "\n",
    "<div style=\"text-align: right\"\n",
    "     \n",
    "[Voltar ao índice](#Contents)"
   ]
  },
  {
   "cell_type": "code",
   "execution_count": 5,
   "metadata": {
    "ExecuteTime": {
     "end_time": "2021-06-06T21:12:37.298706Z",
     "start_time": "2021-06-06T21:12:36.656481Z"
    }
   },
   "outputs": [],
   "source": [
    "import numpy as np\n",
    "import pandas as pd\n",
    "import seaborn as sns\n",
    "import matplotlib.pyplot as plt\n",
    "\n",
    "%matplotlib inline"
   ]
  },
  {
   "cell_type": "markdown",
   "metadata": {},
   "source": [
    "# 2. Carregando o dataframe SINASC <a name=\"read\"></a>\n",
    "<div style=\"text-align: right\"\n",
    "     \n",
    "[Voltar ao índice](#Contents)"
   ]
  },
  {
   "cell_type": "code",
   "execution_count": null,
   "metadata": {
    "ExecuteTime": {
     "end_time": "2021-06-06T21:12:37.762376Z",
     "start_time": "2021-06-06T21:12:37.728383Z"
    },
    "scrolled": true
   },
   "outputs": [],
   "source": [
    "sinasc_raw = pd.read_csv('SINASC_RO_2019.csv')\n",
    "sinasc_raw.head()"
   ]
  },
  {
   "cell_type": "code",
   "execution_count": null,
   "metadata": {},
   "outputs": [],
   "source": [
    "sinasc_raw.info()"
   ]
  },
  {
   "cell_type": "code",
   "execution_count": null,
   "metadata": {},
   "outputs": [],
   "source": [
    "print('Quantidade de linhas duplicadas:', \n",
    "      sinasc_raw.duplicated().sum())"
   ]
  },
  {
   "cell_type": "markdown",
   "metadata": {},
   "source": [
    "# Tarefa 1"
   ]
  },
  {
   "cell_type": "markdown",
   "metadata": {},
   "source": [
    "### 1. Idade media das mães e dos pais por município (coluna munResNome)\n"
   ]
  },
  {
   "cell_type": "code",
   "execution_count": null,
   "metadata": {},
   "outputs": [],
   "source": [
    "sinasc_raw.groupby(by='munResNome')[['IDADEMAE', \n",
    "                                     'IDADEPAI']].agg({'IDADEMAE':[('Média','mean')],\n",
    "                                                       'IDADEPAI':[('Média','mean')]})"
   ]
  },
  {
   "cell_type": "markdown",
   "metadata": {},
   "source": [
    "### 2. Peso médio dos bebes por sexo que nasceram no dia do seu aniversário por faixas de escolaridade mae\n",
    "Ex: Você, aluna(o), nasceu no dia 10/01, então você precisa filtrar o conjunto de dados nessa data e calcular o peso médio dos bebês de cada sexo por faixa de escolaridade da mãe."
   ]
  },
  {
   "cell_type": "code",
   "execution_count": null,
   "metadata": {},
   "outputs": [],
   "source": [
    "sinasc_raw.DTNASC = pd.to_datetime(sinasc_raw.DTNASC)\n",
    "sinasc_raw.DTNASC"
   ]
  },
  {
   "cell_type": "code",
   "execution_count": null,
   "metadata": {},
   "outputs": [],
   "source": [
    "sinasc_aniversario = sinasc_raw[(sinasc_raw.DTNASC.dt.day == 18) & \n",
    "                                (sinasc_raw.DTNASC.dt.month == 12)]\n",
    "\n",
    "print('Em 2019, dos {} nascimentos registrados no Estado de Rondônia, {} ocorreram no dia 18 de dezembro.'.format(\n",
    "    len(sinasc_raw), \n",
    "    len(sinasc_aniversario)\n",
    "))\n",
    "\n",
    "sinasc_aniversario = sinasc_aniversario.groupby(by=['DTNASC',\n",
    "                                                    'SEXO',\n",
    "                                                    'ESCMAE'])['PESO'].mean()\n",
    "\n",
    "sinasc_aniversario = sinasc_aniversario.to_frame().reindex(labels=['1 a 3 anos', \n",
    "                                                                   '4 a 7 anos', \n",
    "                                                                   '8 a 11 anos', \n",
    "                                                                   '12 anos ou mais'], \n",
    "                                                           level='ESCMAE')\n",
    "\n",
    "sinasc_aniversario"
   ]
  },
  {
   "cell_type": "code",
   "execution_count": null,
   "metadata": {},
   "outputs": [],
   "source": [
    "data = sinasc_aniversario.index.get_level_values(level=0).unique()[0].date()\n",
    "\n",
    "sns.catplot(x='ESCMAE', \n",
    "            y='PESO', \n",
    "            data=sinasc_aniversario.reset_index(level='DTNASC', \n",
    "                                                drop=True).reset_index(), \n",
    "            hue='SEXO', \n",
    "            kind='bar', \n",
    "            order=['1 a 3 anos', \n",
    "                   '4 a 7 anos', \n",
    "                   '8 a 11 anos', \n",
    "                   '12 anos ou mais'])\n",
    "plt.xticks(rotation=45)\n",
    "plt.xlabel(xlabel='Escolaridade da mãe')\n",
    "plt.ylabel(ylabel='Média do peso em gramas')\n",
    "plt.title(label=data.strftime('%d/%b/%Y'));"
   ]
  },
  {
   "cell_type": "markdown",
   "metadata": {},
   "source": [
    "### 3. Qual o municipio que nasceu menos bebe em 2019?\n",
    "    - qual a idade media, maxima, minima das maes nesse municipio?\n",
    "    - qual a idade media, maxima, minima dos pais nesse municipio?"
   ]
  },
  {
   "cell_type": "code",
   "execution_count": null,
   "metadata": {},
   "outputs": [],
   "source": [
    "print('Municípios em que nasceram menos bebês:\\n')\n",
    "print(sinasc_raw.munResNome.value_counts().sort_values().head())\n",
    "\n",
    "sinasc_raw['COUNT'] = 1\n",
    "sinasc_3 = sinasc_raw.groupby(by='munResNome')[['COUNT', \n",
    "                                                'IDADEMAE',\n",
    "                                                'IDADEPAI']].agg(\n",
    "    {'COUNT':[('Quantidade de bebês nascidos','count')], \n",
    "     'IDADEMAE':[('idade média','mean'), \n",
    "                 ('idade máxima',max), \n",
    "                 ('idade mínima',min)], \n",
    "     'IDADEPAI':[('idade média','mean'), \n",
    "                 ('idade máxima',max), \n",
    "                 ('idade mínima',min)]})\n",
    "\n",
    "sinasc_3.sort_values(('COUNT', 'Quantidade de bebês nascidos'))"
   ]
  },
  {
   "cell_type": "markdown",
   "metadata": {},
   "source": [
    "### 4. Qual o municipio que nasceu mais bebe no mês de março?\n",
    "    - qual a quantidade de filhos vivos media, maxima, minima nesse municipio?\n",
    "    - qual a idade media, maxima, minima dos pais nesse municipio?\n",
    "\n"
   ]
  },
  {
   "cell_type": "markdown",
   "metadata": {},
   "source": [
    "### Analise as respostas encontradas, tire algum insight delas, conte pra gente algo encontrado nos dados. Algo que você julgue relevante e novo pra você."
   ]
  },
  {
   "cell_type": "markdown",
   "metadata": {},
   "source": [
    "Exemplo:\n",
    "- Ah, descobri que a idade mediana das mulheres que deram a luz no ano de 2019 dos municipios x é maior que y."
   ]
  },
  {
   "cell_type": "code",
   "execution_count": 6,
   "metadata": {},
   "outputs": [
    {
     "data": {
      "text/plain": [
       "ORIGEM          int64\n",
       "CODESTAB      float64\n",
       "CODMUNNASC      int64\n",
       "LOCNASC         int64\n",
       "IDADEMAE        int64\n",
       "               ...   \n",
       "munResUf       object\n",
       "munResLat     float64\n",
       "munResLon     float64\n",
       "munResAlt     float64\n",
       "munResArea    float64\n",
       "Length: 69, dtype: object"
      ]
     },
     "execution_count": 6,
     "metadata": {},
     "output_type": "execute_result"
    }
   ],
   "source": [
    "sinasc_mar = sinasc_raw[sinasc_raw.DTNASC.dt.month == 3].copy()\n",
    "\n",
    "print('O município que mais nasceu bebê no mês de março foi {} com {} nascimentos.'.format(\n",
    "    sinasc_mar['munResNome'].value_counts().index[0], \n",
    "    sinasc_mar['munResNome'].value_counts().values[0]))\n",
    "\n",
    "sinasc_mar['MES'] = sinasc_mar['DTNASC'].dt.month_name()\n",
    "sinasc_mar['COUNT'] = 1\n",
    "sinasc_4 = sinasc_mar.groupby(by=['MES',\n",
    "                                  'munResNome']\n",
    "                             )[['COUNT', \n",
    "                                'QTDFILVIVO',\n",
    "                                'IDADEMAE',\n",
    "                                'IDADEPAI']\n",
    "                              ].agg({'COUNT':[('Qtd de bebês nascidos','count')], \n",
    "                                     'QTDFILVIVO':[('Média','mean'), \n",
    "                                                   ('Máx',max), \n",
    "                                                   ('Mín',min)], \n",
    "                                     'IDADEMAE':[('Média','mean'), \n",
    "                                                 ('Máx',max), \n",
    "                                                 ('Mín',min), \n",
    "                                                 ('Amplitude',lambda x: x.max()-x.min())], \n",
    "                                     'IDADEPAI':[('Média','mean'), \n",
    "                                                 ('Máx',max), \n",
    "                                                 ('Mín',min), \n",
    "                                                 ('Amplitude',lambda x: x.max()-x.min())]\n",
    "                                    })\n",
    "\n",
    "sinasc_4['Diferença da média IDADEPAI-IDADEMAE'] = sinasc_4[('IDADEPAI','Média')]-sinasc_4[('IDADEMAE','Média')]\n",
    "sinasc_4.sort_values(('COUNT', 'Qtd de bebês nascidos'), \n",
    "                     ascending=False\n",
    "                    )"
   ]
  },
  {
   "cell_type": "code",
   "execution_count": 7,
   "metadata": {},
   "outputs": [
    {
     "data": {
      "text/html": [
       "<div>\n",
       "<style scoped>\n",
       "    .dataframe tbody tr th:only-of-type {\n",
       "        vertical-align: middle;\n",
       "    }\n",
       "\n",
       "    .dataframe tbody tr th {\n",
       "        vertical-align: top;\n",
       "    }\n",
       "\n",
       "    .dataframe thead th {\n",
       "        text-align: right;\n",
       "    }\n",
       "</style>\n",
       "<table border=\"1\" class=\"dataframe\">\n",
       "  <thead>\n",
       "    <tr style=\"text-align: right;\">\n",
       "      <th></th>\n",
       "      <th>ESCMAE</th>\n",
       "      <th>GESTACAO</th>\n",
       "      <th>GRAVIDEZ</th>\n",
       "      <th>PARTO</th>\n",
       "      <th>DTNASC</th>\n",
       "      <th>SEXO</th>\n",
       "      <th>RACACOR</th>\n",
       "      <th>DTCADASTRO</th>\n",
       "      <th>CODANOMAL</th>\n",
       "      <th>VERSAOSIST</th>\n",
       "      <th>DTRECEBIM</th>\n",
       "      <th>munResStatus</th>\n",
       "      <th>munResTipo</th>\n",
       "      <th>munResNome</th>\n",
       "      <th>munResUf</th>\n",
       "    </tr>\n",
       "  </thead>\n",
       "  <tbody>\n",
       "    <tr>\n",
       "      <th>0</th>\n",
       "      <td>8 a 11 anos</td>\n",
       "      <td>37 a 41 semanas</td>\n",
       "      <td>Única</td>\n",
       "      <td>Cesáreo</td>\n",
       "      <td>2019-02-19</td>\n",
       "      <td>Masculino</td>\n",
       "      <td>Branca</td>\n",
       "      <td>2019-03-08</td>\n",
       "      <td>NaN</td>\n",
       "      <td>3.2.01</td>\n",
       "      <td>2019-03-08</td>\n",
       "      <td>ATIVO</td>\n",
       "      <td>MUNIC</td>\n",
       "      <td>Alta Floresta D'Oeste</td>\n",
       "      <td>Rondônia</td>\n",
       "    </tr>\n",
       "    <tr>\n",
       "      <th>1</th>\n",
       "      <td>8 a 11 anos</td>\n",
       "      <td>37 a 41 semanas</td>\n",
       "      <td>Única</td>\n",
       "      <td>Cesáreo</td>\n",
       "      <td>2019-02-21</td>\n",
       "      <td>Feminino</td>\n",
       "      <td>Branca</td>\n",
       "      <td>2019-03-08</td>\n",
       "      <td>NaN</td>\n",
       "      <td>3.2.01</td>\n",
       "      <td>2019-03-08</td>\n",
       "      <td>ATIVO</td>\n",
       "      <td>MUNIC</td>\n",
       "      <td>Alta Floresta D'Oeste</td>\n",
       "      <td>Rondônia</td>\n",
       "    </tr>\n",
       "    <tr>\n",
       "      <th>2</th>\n",
       "      <td>8 a 11 anos</td>\n",
       "      <td>37 a 41 semanas</td>\n",
       "      <td>Única</td>\n",
       "      <td>Cesáreo</td>\n",
       "      <td>2019-02-25</td>\n",
       "      <td>Feminino</td>\n",
       "      <td>Branca</td>\n",
       "      <td>2019-03-08</td>\n",
       "      <td>NaN</td>\n",
       "      <td>3.2.01</td>\n",
       "      <td>2019-03-08</td>\n",
       "      <td>ATIVO</td>\n",
       "      <td>MUNIC</td>\n",
       "      <td>Alta Floresta D'Oeste</td>\n",
       "      <td>Rondônia</td>\n",
       "    </tr>\n",
       "    <tr>\n",
       "      <th>3</th>\n",
       "      <td>12 anos ou mais</td>\n",
       "      <td>37 a 41 semanas</td>\n",
       "      <td>Única</td>\n",
       "      <td>Cesáreo</td>\n",
       "      <td>2019-03-20</td>\n",
       "      <td>Feminino</td>\n",
       "      <td>Parda</td>\n",
       "      <td>2019-04-03</td>\n",
       "      <td>NaN</td>\n",
       "      <td>3.2.01</td>\n",
       "      <td>2019-04-09</td>\n",
       "      <td>ATIVO</td>\n",
       "      <td>MUNIC</td>\n",
       "      <td>Alto Alegre dos Parecis</td>\n",
       "      <td>Rondônia</td>\n",
       "    </tr>\n",
       "    <tr>\n",
       "      <th>4</th>\n",
       "      <td>8 a 11 anos</td>\n",
       "      <td>37 a 41 semanas</td>\n",
       "      <td>Única</td>\n",
       "      <td>Cesáreo</td>\n",
       "      <td>2019-03-23</td>\n",
       "      <td>Feminino</td>\n",
       "      <td>Parda</td>\n",
       "      <td>2019-04-03</td>\n",
       "      <td>NaN</td>\n",
       "      <td>3.2.01</td>\n",
       "      <td>2019-04-09</td>\n",
       "      <td>ATIVO</td>\n",
       "      <td>MUNIC</td>\n",
       "      <td>Alta Floresta D'Oeste</td>\n",
       "      <td>Rondônia</td>\n",
       "    </tr>\n",
       "    <tr>\n",
       "      <th>...</th>\n",
       "      <td>...</td>\n",
       "      <td>...</td>\n",
       "      <td>...</td>\n",
       "      <td>...</td>\n",
       "      <td>...</td>\n",
       "      <td>...</td>\n",
       "      <td>...</td>\n",
       "      <td>...</td>\n",
       "      <td>...</td>\n",
       "      <td>...</td>\n",
       "      <td>...</td>\n",
       "      <td>...</td>\n",
       "      <td>...</td>\n",
       "      <td>...</td>\n",
       "      <td>...</td>\n",
       "    </tr>\n",
       "    <tr>\n",
       "      <th>27023</th>\n",
       "      <td>12 anos ou mais</td>\n",
       "      <td>32 a 36 semanas</td>\n",
       "      <td>Única</td>\n",
       "      <td>Cesáreo</td>\n",
       "      <td>2019-12-13</td>\n",
       "      <td>Masculino</td>\n",
       "      <td>Branca</td>\n",
       "      <td>2020-09-28</td>\n",
       "      <td>NaN</td>\n",
       "      <td>3.2.01</td>\n",
       "      <td>2020-10-13</td>\n",
       "      <td>ATIVO</td>\n",
       "      <td>MUNIC</td>\n",
       "      <td>Vilhena</td>\n",
       "      <td>Rondônia</td>\n",
       "    </tr>\n",
       "    <tr>\n",
       "      <th>27024</th>\n",
       "      <td>8 a 11 anos</td>\n",
       "      <td>37 a 41 semanas</td>\n",
       "      <td>Única</td>\n",
       "      <td>Vaginal</td>\n",
       "      <td>2019-10-04</td>\n",
       "      <td>Masculino</td>\n",
       "      <td>Branca</td>\n",
       "      <td>2019-10-16</td>\n",
       "      <td>NaN</td>\n",
       "      <td>3.2.01</td>\n",
       "      <td>2019-10-21</td>\n",
       "      <td>ATIVO</td>\n",
       "      <td>MUNIC</td>\n",
       "      <td>Chupinguaia</td>\n",
       "      <td>Rondônia</td>\n",
       "    </tr>\n",
       "    <tr>\n",
       "      <th>27025</th>\n",
       "      <td>8 a 11 anos</td>\n",
       "      <td>37 a 41 semanas</td>\n",
       "      <td>Única</td>\n",
       "      <td>Cesáreo</td>\n",
       "      <td>2019-08-02</td>\n",
       "      <td>Masculino</td>\n",
       "      <td>Parda</td>\n",
       "      <td>2019-08-07</td>\n",
       "      <td>NaN</td>\n",
       "      <td>3.2.00</td>\n",
       "      <td>2019-08-07</td>\n",
       "      <td>ATIVO</td>\n",
       "      <td>MUNIC</td>\n",
       "      <td>Vilhena</td>\n",
       "      <td>Rondônia</td>\n",
       "    </tr>\n",
       "    <tr>\n",
       "      <th>27026</th>\n",
       "      <td>8 a 11 anos</td>\n",
       "      <td>32 a 36 semanas</td>\n",
       "      <td>Única</td>\n",
       "      <td>Vaginal</td>\n",
       "      <td>2019-12-23</td>\n",
       "      <td>Masculino</td>\n",
       "      <td>Parda</td>\n",
       "      <td>2020-01-07</td>\n",
       "      <td>NaN</td>\n",
       "      <td>3.2.00</td>\n",
       "      <td>2020-01-07</td>\n",
       "      <td>ATIVO</td>\n",
       "      <td>MUNIC</td>\n",
       "      <td>Vilhena</td>\n",
       "      <td>Rondônia</td>\n",
       "    </tr>\n",
       "    <tr>\n",
       "      <th>27027</th>\n",
       "      <td>8 a 11 anos</td>\n",
       "      <td>37 a 41 semanas</td>\n",
       "      <td>Única</td>\n",
       "      <td>Cesáreo</td>\n",
       "      <td>2019-12-27</td>\n",
       "      <td>Masculino</td>\n",
       "      <td>Parda</td>\n",
       "      <td>2020-10-15</td>\n",
       "      <td>NaN</td>\n",
       "      <td>3.2.01</td>\n",
       "      <td>2020-10-16</td>\n",
       "      <td>ATIVO</td>\n",
       "      <td>MUNIC</td>\n",
       "      <td>Novo Horizonte do Oeste</td>\n",
       "      <td>Rondônia</td>\n",
       "    </tr>\n",
       "  </tbody>\n",
       "</table>\n",
       "<p>27028 rows × 15 columns</p>\n",
       "</div>"
      ],
      "text/plain": [
       "                ESCMAE         GESTACAO GRAVIDEZ    PARTO      DTNASC  \\\n",
       "0          8 a 11 anos  37 a 41 semanas    Única  Cesáreo  2019-02-19   \n",
       "1          8 a 11 anos  37 a 41 semanas    Única  Cesáreo  2019-02-21   \n",
       "2          8 a 11 anos  37 a 41 semanas    Única  Cesáreo  2019-02-25   \n",
       "3      12 anos ou mais  37 a 41 semanas    Única  Cesáreo  2019-03-20   \n",
       "4          8 a 11 anos  37 a 41 semanas    Única  Cesáreo  2019-03-23   \n",
       "...                ...              ...      ...      ...         ...   \n",
       "27023  12 anos ou mais  32 a 36 semanas    Única  Cesáreo  2019-12-13   \n",
       "27024      8 a 11 anos  37 a 41 semanas    Única  Vaginal  2019-10-04   \n",
       "27025      8 a 11 anos  37 a 41 semanas    Única  Cesáreo  2019-08-02   \n",
       "27026      8 a 11 anos  32 a 36 semanas    Única  Vaginal  2019-12-23   \n",
       "27027      8 a 11 anos  37 a 41 semanas    Única  Cesáreo  2019-12-27   \n",
       "\n",
       "            SEXO RACACOR  DTCADASTRO CODANOMAL VERSAOSIST   DTRECEBIM  \\\n",
       "0      Masculino  Branca  2019-03-08       NaN     3.2.01  2019-03-08   \n",
       "1       Feminino  Branca  2019-03-08       NaN     3.2.01  2019-03-08   \n",
       "2       Feminino  Branca  2019-03-08       NaN     3.2.01  2019-03-08   \n",
       "3       Feminino   Parda  2019-04-03       NaN     3.2.01  2019-04-09   \n",
       "4       Feminino   Parda  2019-04-03       NaN     3.2.01  2019-04-09   \n",
       "...          ...     ...         ...       ...        ...         ...   \n",
       "27023  Masculino  Branca  2020-09-28       NaN     3.2.01  2020-10-13   \n",
       "27024  Masculino  Branca  2019-10-16       NaN     3.2.01  2019-10-21   \n",
       "27025  Masculino   Parda  2019-08-07       NaN     3.2.00  2019-08-07   \n",
       "27026  Masculino   Parda  2020-01-07       NaN     3.2.00  2020-01-07   \n",
       "27027  Masculino   Parda  2020-10-15       NaN     3.2.01  2020-10-16   \n",
       "\n",
       "      munResStatus munResTipo               munResNome  munResUf  \n",
       "0            ATIVO      MUNIC    Alta Floresta D'Oeste  Rondônia  \n",
       "1            ATIVO      MUNIC    Alta Floresta D'Oeste  Rondônia  \n",
       "2            ATIVO      MUNIC    Alta Floresta D'Oeste  Rondônia  \n",
       "3            ATIVO      MUNIC  Alto Alegre dos Parecis  Rondônia  \n",
       "4            ATIVO      MUNIC    Alta Floresta D'Oeste  Rondônia  \n",
       "...            ...        ...                      ...       ...  \n",
       "27023        ATIVO      MUNIC                  Vilhena  Rondônia  \n",
       "27024        ATIVO      MUNIC              Chupinguaia  Rondônia  \n",
       "27025        ATIVO      MUNIC                  Vilhena  Rondônia  \n",
       "27026        ATIVO      MUNIC                  Vilhena  Rondônia  \n",
       "27027        ATIVO      MUNIC  Novo Horizonte do Oeste  Rondônia  \n",
       "\n",
       "[27028 rows x 15 columns]"
      ]
     },
     "execution_count": 7,
     "metadata": {},
     "output_type": "execute_result"
    }
   ],
   "source": [
    "print('Mediana de todos os municípios no mês de março:')\n",
    "round(sinasc_4.groupby(by='MES').median())"
   ]
  },
  {
   "cell_type": "code",
   "execution_count": 4,
   "metadata": {},
   "outputs": [
    {
     "data": {
      "text/plain": [
       "Index(['ORIGEM', 'CODESTAB', 'CODMUNNASC', 'LOCNASC', 'IDADEMAE', 'ESTCIVMAE',\n",
       "       'ESCMAE', 'CODOCUPMAE', 'QTDFILVIVO', 'QTDFILMORT', 'CODMUNRES',\n",
       "       'GESTACAO', 'GRAVIDEZ', 'PARTO', 'CONSULTAS', 'DTNASC', 'HORANASC',\n",
       "       'SEXO', 'APGAR1', 'APGAR5', 'RACACOR', 'PESO', 'IDANOMAL', 'DTCADASTRO',\n",
       "       'CODANOMAL', 'NUMEROLOTE', 'VERSAOSIST', 'DTRECEBIM', 'DIFDATA',\n",
       "       'DTRECORIGA', 'NATURALMAE', 'CODMUNNATU', 'CODUFNATU', 'ESCMAE2010',\n",
       "       'SERIESCMAE', 'DTNASCMAE', 'RACACORMAE', 'QTDGESTANT', 'QTDPARTNOR',\n",
       "       'QTDPARTCES', 'IDADEPAI', 'DTULTMENST', 'SEMAGESTAC', 'TPMETESTIM',\n",
       "       'CONSPRENAT', 'MESPRENAT', 'TPAPRESENT', 'STTRABPART', 'STCESPARTO',\n",
       "       'TPNASCASSI', 'TPFUNCRESP', 'TPDOCRESP', 'DTDECLARAC', 'ESCMAEAGR1',\n",
       "       'STDNEPIDEM', 'STDNNOVA', 'CODPAISRES', 'TPROBSON', 'PARIDADE',\n",
       "       'KOTELCHUCK', 'CONTADOR', 'munResStatus', 'munResTipo', 'munResNome',\n",
       "       'munResUf', 'munResLat', 'munResLon', 'munResAlt', 'munResArea'],\n",
       "      dtype='object')"
      ]
     },
     "execution_count": 4,
     "metadata": {},
     "output_type": "execute_result"
    }
   ],
   "source": [
    "print('Média de todos os municípios no mês de março:')\n",
    "round(sinasc_4.groupby(by='MES').mean())"
   ]
  }
 ],
 "metadata": {
  "kernelspec": {
   "display_name": "Python 3 (ipykernel)",
   "language": "python",
   "name": "python3"
  },
  "language_info": {
   "codemirror_mode": {
    "name": "ipython",
    "version": 3
   },
   "file_extension": ".py",
   "mimetype": "text/x-python",
   "name": "python",
   "nbconvert_exporter": "python",
   "pygments_lexer": "ipython3",
   "version": "3.11.7"
  },
  "varInspector": {
   "cols": {
    "lenName": 16,
    "lenType": 16,
    "lenVar": 40
   },
   "kernels_config": {
    "python": {
     "delete_cmd_postfix": "",
     "delete_cmd_prefix": "del ",
     "library": "var_list.py",
     "varRefreshCmd": "print(var_dic_list())"
    },
    "r": {
     "delete_cmd_postfix": ") ",
     "delete_cmd_prefix": "rm(",
     "library": "var_list.r",
     "varRefreshCmd": "cat(var_dic_list()) "
    }
   },
   "types_to_exclude": [
    "module",
    "function",
    "builtin_function_or_method",
    "instance",
    "_Feature"
   ],
   "window_display": false
  }
 },
 "nbformat": 4,
 "nbformat_minor": 4
}
