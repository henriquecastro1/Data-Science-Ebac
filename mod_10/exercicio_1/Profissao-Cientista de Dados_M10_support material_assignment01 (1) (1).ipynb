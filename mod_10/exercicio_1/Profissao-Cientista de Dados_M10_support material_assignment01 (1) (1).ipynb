{
 "cells": [
  {
   "cell_type": "markdown",
   "metadata": {},
   "source": [
    "# Módulo 10 atividade 1"
   ]
  },
  {
   "cell_type": "markdown",
   "metadata": {},
   "source": [
    "Uma instituição financeira quer conhecer melhor o perfil de renda de seus novos clientes para diversos fins, por exemplo, melhor dimensionar o limite de cartões de crédito dos novos clientes, sem necessariamente solicitar olerites ou documentações que impactem na experiência do seu cliente.\n",
    "\n",
    "Para isto, conduziu um estudo com alguns clientes, comprovando suas rendas através de olerites e outros documentos, e pretende construir um modelo preditivo para esta renda com base em algumas variáveis que já possui em seu banco de dados.\n",
    "\n",
    "As variáveis são intuitivas - note que há uma variável 'index' que é um identificador do cliente e que em geral o ```read_csv``` do pandas coloca também uma variável sequencial.\n",
    "\n",
    "Estes dados estão no arquivo ```previsao_de_renda.csv```. Carregue-o em um *dataframe*.\n",
    "\n",
    "1) Avalie a estrutura de correlação das variáveis quantitativas através de um gráfico de \"matriz de dispersão\" e através da avaliação gráfica da matriz de correlações. Veja se você identifica algum padrão interessante ou que te faça sentido."
   ]
  },
  {
   "cell_type": "code",
   "execution_count": null,
   "metadata": {},
   "outputs": [],
   "source": [
    "import numpy as np\n",
    "import pandas as pd\n",
    "import matplotlib.pyplot as plt\n",
    "import seaborn as sns\n",
    "\n",
    "%matplotlib inline"
   ]
  },
  {
   "cell_type": "code",
   "execution_count": null,
   "metadata": {},
   "outputs": [],
   "source": [
    "df = pd.read_csv(filepath_or_buffer=filepath)\n",
    "\n",
    "df"
   ]
  },
  {
   "cell_type": "code",
   "execution_count": null,
   "metadata": {},
   "outputs": [],
   "source": [
    "df.drop(columns=['Unnamed: 0', 'index', 'mau'], inplace=True)\n",
    "\n",
    "print(df.info(), '\\n')"
   ]
  },
  {
   "cell_type": "code",
   "execution_count": null,
   "metadata": {},
   "outputs": [],
   "source": [
    "print('Quantidade de linhas duplicadas:', df.duplicated().sum())"
   ]
  },
  {
   "cell_type": "code",
   "execution_count": null,
   "metadata": {},
   "outputs": [],
   "source": [
    "print('Quantidade total de linhas:', len(df), '\\n')\n",
    "\n",
    "print('Quantidade após remoção das linhas duplicadas:', \n",
    "      len(df.drop_duplicates()), '\\n')\n",
    "\n",
    "df.drop_duplicates(inplace=True)\n",
    "df.reset_index(inplace=True, drop=True)\n",
    "df"
   ]
  },
  {
   "cell_type": "code",
   "execution_count": null,
   "metadata": {},
   "outputs": [],
   "source": [
    "df.corr()"
   ]
  },
  {
   "cell_type": "code",
   "execution_count": null,
   "metadata": {},
   "outputs": [],
   "source": [
    "sns.pairplot(data=df, \n",
    "             hue='tipo_renda', \n",
    "             vars=['qtd_filhos', \n",
    "                   'idade', \n",
    "                   'tempo_emprego', \n",
    "                   'qt_pessoas_residencia', \n",
    "                   'renda'])\n",
    "\n",
    "plt.show()"
   ]
  },
  {
   "cell_type": "code",
   "execution_count": null,
   "metadata": {},
   "outputs": [],
   "source": [
    "cmap = sns.diverging_palette(h_neg=250, \n",
    "                             h_pos=359, \n",
    "                             as_cmap=True, \n",
    "                             sep=1, \n",
    "                             center = 'light')\n",
    "\n",
    "sns.clustermap(data=df.corr(), \n",
    "               figsize=(10, 10), \n",
    "               center=0, \n",
    "               cmap=cmap)\n",
    "\n",
    "plt.show()"
   ]
  },
  {
   "cell_type": "markdown",
   "metadata": {},
   "source": [
    "2) Avalie um gráfico de dispersão (*scatterplot*) específico para as duas variáveis mais correlacionadas com *renda*."
   ]
  },
  {
   "cell_type": "code",
   "execution_count": null,
   "metadata": {},
   "outputs": [],
   "source": [
    "plt.figure(figsize=(16,9))\n",
    "\n",
    "sns.scatterplot(x='tempo_emprego',  # <- 1ª\n",
    "                y='renda', \n",
    "                hue='tipo_renda', \n",
    "                size='idade',  # <- 2ª\n",
    "                data=df,\n",
    "                alpha=0.4)\n",
    "\n",
    "# Linha de tendência:\n",
    "sns.regplot(x='tempo_emprego', y='renda', data=df, scatter=False, color='.3')\n",
    "\n",
    "plt.show()"
   ]
  },
  {
   "cell_type": "code",
   "execution_count": null,
   "metadata": {},
   "outputs": [],
   "source": [
    "plt.figure(figsize=(16,9))\n",
    "\n",
    "sns.scatterplot(x='idade',  # <- 1ª\n",
    "                y='renda', \n",
    "                hue='tipo_renda', \n",
    "                size='tempo_emprego',  # <- 2ª\n",
    "                data=df,\n",
    "                alpha=0.4)\n",
    "\n",
    "# Linha de tendência:\n",
    "sns.regplot(x='idade', y='renda', data=df, scatter=False, color='.3')\n",
    "\n",
    "plt.show()"
   ]
  },
  {
   "cell_type": "markdown",
   "metadata": {},
   "source": [
    "3) Na su aopinião, há outliers na variável renda?"
   ]
  },
  {
   "cell_type": "code",
   "execution_count": null,
   "metadata": {},
   "outputs": [],
   "source": [
    "Sim. Como mencionado anteriormente, há outliers na variável de renda de clientes do tipo de renda empresarial; \n",
    "no entanto, devido à baixa incidência, é possível que esses outliers não afetem significativamente os resultados de tendência"
   ]
  },
  {
   "cell_type": "markdown",
   "metadata": {},
   "source": [
    "4) Calcule o logaritmo da variável renda e repita a sequência de análise"
   ]
  },
  {
   "cell_type": "code",
   "execution_count": null,
   "metadata": {},
   "outputs": [],
   "source": [
    "df_log = df.copy()\n",
    "df_log['renda'] = np.log(df_log['renda'])\n",
    "\n",
    "plt.figure(figsize=(16,9))\n",
    "\n",
    "sns.scatterplot(x='tempo_emprego',  # <- 1ª\n",
    "                y='renda', \n",
    "                hue='tipo_renda', \n",
    "                size='idade',  # <- 2ª\n",
    "                data=df_log,\n",
    "                alpha=0.4)\n",
    "\n",
    "# Linha de tendência:\n",
    "sns.regplot(x='tempo_emprego', \n",
    "            y='renda', \n",
    "            data=df_log, \n",
    "            scatter=False, \n",
    "            color='.3')\n",
    "\n",
    "plt.show()"
   ]
  },
  {
   "cell_type": "code",
   "execution_count": null,
   "metadata": {},
   "outputs": [],
   "source": [
    "df_log = df.copy()\n",
    "df_log['renda'] = np.log(df_log['renda'])\n",
    "\n",
    "plt.figure(figsize=(16,9))\n",
    "\n",
    "sns.scatterplot(x='idade',  # <- 1ª\n",
    "                y='renda', \n",
    "                hue='tipo_renda', \n",
    "                size='tempo_emprego',  # <- 2ª\n",
    "                data=df_log,\n",
    "                alpha=0.4)\n",
    "\n",
    "# Linha de tendência:\n",
    "sns.regplot(x='idade', \n",
    "            y='renda', \n",
    "            data=df_log, \n",
    "            scatter=False, \n",
    "            color='.3')\n",
    "\n",
    "plt.show()"
   ]
  },
  {
   "cell_type": "markdown",
   "metadata": {},
   "source": [
    "5) A aplicação do LOG você acha que melhorou ou piorou a análise?"
   ]
  },
  {
   "cell_type": "code",
   "execution_count": null,
   "metadata": {},
   "outputs": [],
   "source": [
    "pd.concat(objs=[df.corr().tail(1), \n",
    "                df_log.corr().tail(1)], \n",
    "          axis=0\n",
    "         ).reset_index(drop=True).rename(index={0:'renda', \n",
    "                                                1:'renda_log'})"
   ]
  }
 ],
 "metadata": {
  "kernelspec": {
   "display_name": "Python 3 (ipykernel)",
   "language": "python",
   "name": "python3"
  },
  "language_info": {
   "codemirror_mode": {
    "name": "ipython",
    "version": 3
   },
   "file_extension": ".py",
   "mimetype": "text/x-python",
   "name": "python",
   "nbconvert_exporter": "python",
   "pygments_lexer": "ipython3",
   "version": "3.11.7"
  }
 },
 "nbformat": 4,
 "nbformat_minor": 4
}
