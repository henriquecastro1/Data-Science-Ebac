{
 "cells": [
  {
   "cell_type": "markdown",
   "metadata": {},
   "source": [
    "# Módulo 10 tarefa 2\n",
    "\n",
    "Considere a mesma base de dados utilizada na tarefa 1 ```previsao_de_renda.csv```."
   ]
  },
  {
   "cell_type": "markdown",
   "metadata": {},
   "source": [
    "1) Com o que você viu em aula, faça uma análise das variáveis qualitativas (posse de imóvel e posse de veículo) para verificar se são boas preditoras de *renda*. Alguma delas parece discriminar *renda* de forma estatisticamente significante?"
   ]
  },
  {
   "cell_type": "code",
   "execution_count": null,
   "metadata": {},
   "outputs": [],
   "source": [
    "import numpy as np\n",
    "import pandas as pd\n",
    "import matplotlib.pyplot as plt\n",
    "import seaborn as sns\n",
    "\n",
    "%matplotlib inline"
   ]
  },
  {
   "cell_type": "code",
   "execution_count": null,
   "metadata": {},
   "outputs": [],
   "source": [
    "df = pd.read_csv(filepath)\n",
    "\n",
    "df = df.drop(columns='Unnamed: 0').set_index(keys='index', drop=True)\n",
    "df.drop_duplicates(inplace=True)\n",
    "df"
   ]
  },
  {
   "cell_type": "code",
   "execution_count": null,
   "metadata": {},
   "outputs": [],
   "source": [
    "plt.rc('figure', figsize=(12,12))\n",
    "fig, axes = plt.subplots(2,2)\n",
    "\n",
    "sns.pointplot(x='posse_de_imovel', \n",
    "              y='renda',  \n",
    "              data=df, \n",
    "              dodge=True, \n",
    "              ax=axes[0,0])\n",
    "\n",
    "sns.pointplot(x='posse_de_veiculo', \n",
    "              y='renda', \n",
    "              data=df, \n",
    "              dodge=True, \n",
    "              ax=axes[0,1])\n",
    "\n",
    "sns.pointplot(x='posse_de_imovel', \n",
    "              y='renda',  \n",
    "              hue='posse_de_veiculo', \n",
    "              data=df, \n",
    "              dodge=True, \n",
    "              ax=axes[1,0])\n",
    "\n",
    "sns.pointplot(x='posse_de_veiculo', \n",
    "              y='renda', \n",
    "              hue='posse_de_imovel', \n",
    "              data=df, \n",
    "              dodge=True, \n",
    "              ax=axes[1,1])\n",
    "\n",
    "plt.show()"
   ]
  }
 ],
 "metadata": {
  "kernelspec": {
   "display_name": "Python 3 (ipykernel)",
   "language": "python",
   "name": "python3"
  },
  "language_info": {
   "codemirror_mode": {
    "name": "ipython",
    "version": 3
   },
   "file_extension": ".py",
   "mimetype": "text/x-python",
   "name": "python",
   "nbconvert_exporter": "python",
   "pygments_lexer": "ipython3",
   "version": "3.11.7"
  }
 },
 "nbformat": 4,
 "nbformat_minor": 4
}
