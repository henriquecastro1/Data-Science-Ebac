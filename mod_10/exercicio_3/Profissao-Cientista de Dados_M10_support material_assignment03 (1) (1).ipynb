{
 "cells": [
  {
   "cell_type": "markdown",
   "metadata": {},
   "source": [
    "# Módulo 10 tarefa 03\n",
    "Considere a mesma base de dados utilizada na tarefa 1 ```previsao_de_renda.csv```."
   ]
  },
  {
   "cell_type": "markdown",
   "metadata": {},
   "source": [
    "1) Construa um gráfico de barras para avaliar a distribuição das variáveis qualitativas no tempo. Você acha que houve alguma alteração importante a ser investigada?"
   ]
  },
  {
   "cell_type": "code",
   "execution_count": null,
   "metadata": {},
   "outputs": [],
   "source": [
    "import numpy as np\n",
    "import pandas as pd\n",
    "import matplotlib.pyplot as plt\n",
    "import seaborn as sns\n",
    "\n",
    "%matplotlib inline"
   ]
  },
  {
   "cell_type": "code",
   "execution_count": null,
   "metadata": {},
   "outputs": [],
   "source": [
    "df = pd.read_csv(filepath)\n",
    "\n",
    "df = df.drop(columns='Unnamed: 0')\n",
    "df.drop_duplicates(inplace=True)\n",
    "\n",
    "df"
   ]
  },
  {
   "cell_type": "code",
   "execution_count": null,
   "metadata": {},
   "outputs": [],
   "source": [
    "df['data_ref'] = pd.to_datetime(arg=df['data_ref'])"
   ]
  },
  {
   "cell_type": "code",
   "execution_count": null,
   "metadata": {},
   "outputs": [],
   "source": [
    "# Verificando variáveis qualitativas:\n",
    "\n",
    "print(df.select_dtypes(exclude=['datetime', 'number']).columns)\n",
    "# ou\n",
    "print(df.select_dtypes(include=['object', 'boolean']).columns)"
   ]
  },
  {
   "cell_type": "code",
   "execution_count": null,
   "metadata": {},
   "outputs": [],
   "source": [
    "qualitativas = df.select_dtypes(include=['object', 'boolean']).columns\n",
    "\n",
    "print(df[qualitativas].info())\n",
    "df[qualitativas]"
   ]
  },
  {
   "cell_type": "code",
   "execution_count": null,
   "metadata": {},
   "outputs": [],
   "source": [
    "plt.rc('figure', figsize=(12,6))\n",
    "\n",
    "for col in qualitativas:\n",
    "    ax = sns.countplot(x='data_ref', hue=col, data=df)\n",
    "    tick_labels = df['data_ref'].map(lambda x: x.strftime('%b/%Y')).unique()\n",
    "\n",
    "    ax.set_xticklabels(labels=tick_labels, rotation=45)\n",
    "    ax.legend(bbox_to_anchor=(1,.5), loc=6, title=f\"'{col}'\")\n",
    "\n",
    "    plt.show()"
   ]
  },
  {
   "cell_type": "code",
   "execution_count": null,
   "metadata": {},
   "outputs": [],
   "source": [
    "Resposta:"
   ]
  },
  {
   "cell_type": "code",
   "execution_count": null,
   "metadata": {},
   "outputs": [],
   "source": [
    "Dentre todos os gráficos apresentados, uma das variáveis qualitativas que se destaca das demais é a escolaridade. \n",
    "Ao longo do tempo, a partir de setembro de 2015, houve um aumento significativo de dados com a escolaridade de ensino superior \n",
    "completo, o que resultou em uma queda na quantidade de dados com a escolaridade secundária. A distribuição manteve a mesma \n",
    "proporção até o final do período analisado após essa alteração, e seria importante investigar essa mudança."
   ]
  },
  {
   "cell_type": "markdown",
   "metadata": {},
   "source": [
    "2) Para cada variável qualitativa, construa um gráfico mostrando as médias de cada nível da variável no tempo e avalie a estabilidade. Houve alguma alteração importante? Você acha que se pode utilizar essas variáveis em uma modelagem?"
   ]
  },
  {
   "cell_type": "code",
   "execution_count": null,
   "metadata": {},
   "outputs": [],
   "source": [
    "plt.rc('figure', figsize=(16,4))\n",
    "\n",
    "for col in qualitativas:\n",
    "    fig, axes = plt.subplots(1,2)\n",
    "    fig.subplots_adjust(wspace=.6)\n",
    "    \n",
    "    tick_labels = df['data_ref'].map(lambda x: x.strftime('%b/%Y')).unique()\n",
    "    \n",
    "    # barras empilhadas:\n",
    "    df_crosstab = pd.crosstab(index=df['data_ref'], \n",
    "                              columns=df[col], \n",
    "                              normalize='index')\n",
    "    ax0 = df_crosstab.plot.bar(stacked=True, ax=axes[0])\n",
    "    ax0.set_xticklabels(labels=tick_labels, rotation=45)\n",
    "    axes[0].legend(bbox_to_anchor=(1,.5), loc=6, title=f\"'{col}'\")\n",
    "\n",
    "    # perfis médios no tempo:\n",
    "    ax1 = sns.pointplot(x='data_ref', y='renda', hue=col, data=df, dodge=True, ci=95, ax=axes[1])\n",
    "    ax1.set_xticklabels(labels=tick_labels, rotation=45)\n",
    "    axes[1].legend(bbox_to_anchor=(1,.5), loc=6, title=f\"'{col}'\")\n",
    "\n",
    "    plt.show()"
   ]
  },
  {
   "cell_type": "code",
   "execution_count": null,
   "metadata": {},
   "outputs": [],
   "source": [
    "Resposta:"
   ]
  },
  {
   "cell_type": "code",
   "execution_count": null,
   "metadata": {},
   "outputs": [],
   "source": [
    "Como descrito na resposta do exercício anterior, houve uma alteração na variável escolaridade, o que resultou em uma diferença \n",
    "em praticamente metade do período analisado. Exceto por esta variável mencionada, acredito que todas as outras variáveis \n",
    "qualitativas possam ser utilizadas em um modelo devido à estabilidade de distribuição ao longo do tempo."
   ]
  }
 ],
 "metadata": {
  "kernelspec": {
   "display_name": "Python 3 (ipykernel)",
   "language": "python",
   "name": "python3"
  },
  "language_info": {
   "codemirror_mode": {
    "name": "ipython",
    "version": 3
   },
   "file_extension": ".py",
   "mimetype": "text/x-python",
   "name": "python",
   "nbconvert_exporter": "python",
   "pygments_lexer": "ipython3",
   "version": "3.11.7"
  }
 },
 "nbformat": 4,
 "nbformat_minor": 4
}
