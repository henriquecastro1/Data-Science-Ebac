{
 "cells": [
  {
   "cell_type": "markdown",
   "metadata": {},
   "source": [
    "# Módulo 07 - Tarefa 02\n",
    "\n",
    "#### 1) Carregue a base e garanta que a base está como deveria.\n",
    "\n",
    "Considere a base que você ajustou na lição passada. Carregue-a. Caso ainda haja alguma pendência, ajuste - lembre-se de que o scikitlearn não recebe variáveis em formato string, somente numéricas, e não aceita '*missings*'. \n",
    "\n",
    "- Separe 70% da base para treinamento e 30% para validação. Cada uma dessas partes terá dois objetos, um armazenando a variável resposta ```mau```e outro armazenando as variáveis explicativas (lembrando: sem variáveis string, já com as dummies)."
   ]
  },
  {
   "cell_type": "code",
   "execution_count": 13,
   "metadata": {},
   "outputs": [],
   "source": [
    "import numpy as np\n",
    "import pandas as pd\n",
    "import matplotlib.pyplot as plt\n",
    "\n",
    "from sklearn.model_selection import train_test_split\n",
    "\n",
    "from sklearn.tree import DecisionTreeClassifier\n",
    "from sklearn.tree import plot_tree\n",
    "\n",
    "from sklearn.metrics import plot_confusion_matrix\n",
    "from sklearn.metrics import ConfusionMatrixDisplay\n",
    "from sklearn.metrics import accuracy_score\n",
    "\n",
    "%matplotlib inline"
   ]
  },
  {
   "cell_type": "code",
   "execution_count": null,
   "metadata": {},
   "outputs": [],
   "source": [
    "df = pd.read_csv('https://raw.githubusercontent.com/rhatiro/Curso_EBAC-Profissao_Cientista_de_Dados/main/Mo%CC%81dulo%2007%20-%20A%CC%81rvores%20I/Exerci%CC%81cio%201/demo01_dummies.csv')\n",
    "df = df.set_index('Unnamed: 0').reset_index(drop=True)\n",
    "print(df.info())\n",
    "df"
   ]
  },
  {
   "cell_type": "code",
   "execution_count": null,
   "metadata": {},
   "outputs": [],
   "source": [
    "X = df.drop(columns='mau')\n",
    "print('Quantidade de linhas e colunas das variáveis explicativas (X):', \n",
    "      X.shape, '\\n')\n",
    "\n",
    "y = df.mau\n",
    "print('Quantidade de linhas da variável resposta (y):', \n",
    "      len(y), '\\n\\n')\n",
    "\n",
    "X_train, X_test, y_train, y_test = train_test_split(X, \n",
    "                                                    y, \n",
    "                                                    test_size=0.3, \n",
    "                                                    random_state=100)\n",
    "\n",
    "print('Quantidade de linhas e colunas de X_train (70%):', \n",
    "      X_train.shape)\n",
    "print('Quantidade de linhas e colunas de X_test (30%):', \n",
    "      X_test.shape, '\\n')\n",
    "\n",
    "print('Quantidade de linhas de y_train (70%):', \n",
    "      len(y_train))\n",
    "print('Quantidade de linhas de y_test (30%):', \n",
    "      len(y_test))"
   ]
  },
  {
   "cell_type": "markdown",
   "metadata": {},
   "source": [
    "#### 2) Vamos para o modelo:\n",
    "\n",
    "1. Defina um objeto com a função da árvore de decisão vista em aula.\n",
    "2. Treine o modelo com os dados que você separou para treinamento.\n",
    "3. Visualize a árvore. Talvez você queira aumentar um pouco a figura.\n",
    "4. Produza uma visualização da matriz de classificação (ou matriz de confusão) - coloque os rótulos como \"aprovados\" e \"reprovados\" - pois afinal de contas, são essas as decisões que se podem tomar com propostas de crédito.\n",
    "5. Calcule a acurácia na base de treinamento"
   ]
  },
  {
   "cell_type": "code",
   "execution_count": null,
   "metadata": {},
   "outputs": [],
   "source": [
    "clf = DecisionTreeClassifier(random_state=100)\n",
    "clf"
   ]
  },
  {
   "cell_type": "code",
   "execution_count": null,
   "metadata": {},
   "outputs": [],
   "source": [
    "clf = clf.fit(X=X_train, \n",
    "              y=y_train)\n",
    "clf"
   ]
  },
  {
   "cell_type": "code",
   "execution_count": null,
   "metadata": {},
   "outputs": [],
   "source": [
    "plt.figure(figsize=(12,12))\n",
    "plot_tree(decision_tree=clf,\n",
    "          feature_names=X_train.columns,\n",
    "          class_names=['bons', 'maus'],\n",
    "          filled=True, \n",
    "          rounded=True)\n",
    "\n",
    "plt.show()"
   ]
  },
  {
   "cell_type": "code",
   "execution_count": null,
   "metadata": {},
   "outputs": [],
   "source": [
    "plot_confusion_matrix(estimator=clf, \n",
    "                      X=X_train, \n",
    "                      y_true=y_train, \n",
    "                      display_labels=['aprovados', 'reprovados'])\n",
    "\n",
    "plt.show()"
   ]
  },
  {
   "cell_type": "code",
   "execution_count": null,
   "metadata": {},
   "outputs": [],
   "source": [
    "ConfusionMatrixDisplay.from_estimator(estimator=clf, \n",
    "                                      X=X_train, \n",
    "                                      y=y_train, \n",
    "                                      display_labels=['aprovados', 'reprovados'])\n",
    "\n",
    "plt.show()"
   ]
  },
  {
   "cell_type": "code",
   "execution_count": null,
   "metadata": {},
   "outputs": [],
   "source": [
    "print('Acurácia na base de treinamento:')\n",
    "predict_train = clf.predict(X=X_train)\n",
    "accuracy_score(y_true=y_train, \n",
    "               y_pred=predict_train)"
   ]
  },
  {
   "cell_type": "markdown",
   "metadata": {},
   "source": [
    "#### 3) Vamos avaliar o modelo na base de testes\n",
    "\n",
    "1. Classifique a base de teste de acordo com a árvore que você treinou no item 2.\n",
    "2. Produza a visualização da matriz de confusão para a base de teste.\n",
    "3. Calcule a acurácia da base de teste. Compare com a acurácia da base de treinamento.\n",
    "4. Treine uma nova árvore com número mínimo de observações por folha de 5 e máximo de profundidade de 10. Use o random_state = 123. Avalie a matriz de classificação. Observe a distribuição da predição - qual a proporção de proponentes foram classificados como 'maus'?\n",
    "5. Como ficaria a acurácia se você classificasse todos os contratos como 'bons'?"
   ]
  },
  {
   "cell_type": "code",
   "execution_count": null,
   "metadata": {},
   "outputs": [],
   "source": [
    "predict_test = clf.predict(X=X_test)\n",
    "\n",
    "print('Valores preditos:') \n",
    "print(pd.Series(predict_test).value_counts(), '\\n')\n",
    "\n",
    "print('Valores reais:')\n",
    "print(y_test.value_counts())"
   ]
  },
  {
   "cell_type": "code",
   "execution_count": null,
   "metadata": {},
   "outputs": [],
   "source": [
    "ConfusionMatrixDisplay.from_estimator(estimator=clf, \n",
    "                                      X=X_test, \n",
    "                                      y=y_test, \n",
    "                                      display_labels=['aprovados', 'reprovados'])\n",
    "\n",
    "plt.show()"
   ]
  },
  {
   "cell_type": "code",
   "execution_count": null,
   "metadata": {},
   "outputs": [],
   "source": [
    "print('Acurácia da base de teste:', \n",
    "      accuracy_score(y_true=y_test, \n",
    "                     y_pred=predict_test), '\\n')\n",
    "\n",
    "print('Acurácia da base de treinamento:', \n",
    "      accuracy_score(y_true=y_train, \n",
    "                     y_pred=predict_train))"
   ]
  },
  {
   "cell_type": "code",
   "execution_count": null,
   "metadata": {},
   "outputs": [],
   "source": [
    "nova_clf = DecisionTreeClassifier(max_depth=10, \n",
    "                                  min_samples_leaf=5, \n",
    "                                  random_state=123)\n",
    "nova_clf = nova_clf.fit(X=X_train, \n",
    "                        y=y_train)"
   ]
  },
  {
   "cell_type": "code",
   "execution_count": null,
   "metadata": {},
   "outputs": [],
   "source": [
    "fig, axes = plt.subplots(nrows=2, \n",
    "                         ncols=2, \n",
    "                         figsize=(10,10))\n",
    "fig.subplots_adjust(wspace=0.5)\n",
    "\n",
    "ConfusionMatrixDisplay.from_estimator(estimator=nova_clf, \n",
    "                                      X=X_test, \n",
    "                                      y=y_test, \n",
    "                                      display_labels=['bons', 'maus'], \n",
    "                                      normalize=None, \n",
    "                                      ax=axes[0,0])\n",
    "axes[0,0].set_title(label=\"normalize=None\")\n",
    "\n",
    "ConfusionMatrixDisplay.from_estimator(estimator=nova_clf, \n",
    "                                      X=X_test, \n",
    "                                      y=y_test, \n",
    "                                      display_labels=['bons', 'maus'], \n",
    "                                      normalize='true', \n",
    "                                      ax=axes[0,1])\n",
    "axes[0,1].set_title(label=\"normalize='true'\")\n",
    "\n",
    "ConfusionMatrixDisplay.from_estimator(estimator=nova_clf, \n",
    "                                      X=X_test, \n",
    "                                      y=y_test, \n",
    "                                      display_labels=['bons', 'maus'], \n",
    "                                      normalize='pred', \n",
    "                                      ax=axes[1,0])\n",
    "axes[1,0].set_title(label=\"normalize='pred'\")\n",
    "\n",
    "ConfusionMatrixDisplay.from_estimator(estimator=nova_clf, \n",
    "                                      X=X_test, \n",
    "                                      y=y_test, \n",
    "                                      display_labels=['bons', 'maus'], \n",
    "                                      normalize='all', \n",
    "                                      ax=axes[1,1])\n",
    "axes[1,1].set_title(label=\"normalize='all'\")\n",
    "\n",
    "plt.show()"
   ]
  },
  {
   "cell_type": "code",
   "execution_count": null,
   "metadata": {},
   "outputs": [],
   "source": [
    "print(\"Proporção de proponentes classificados como 'maus':\",\n",
    "      round(7/(1937+87+7)*100, 2), \n",
    "      '%')"
   ]
  },
  {
   "cell_type": "code",
   "execution_count": null,
   "metadata": {},
   "outputs": [],
   "source": [
    "print(\"Valores reais:\")\n",
    "print(pd.Series(y_test).value_counts(), \n",
    "      '\\n')\n",
    "\n",
    "print(\"Todos os contratos da base teste classificados como 'bons':\")\n",
    "print(pd.Series(y_test.replace(to_replace=True, \n",
    "                               value=False)\n",
    "               ).value_counts(), \n",
    "      '\\n')\n",
    "\n",
    "print('Acurácia:', \n",
    "      round(accuracy_score(y_true=y_test, \n",
    "                           y_pred=y_test.replace(to_replace=True, \n",
    "                                                 value=False)\n",
    "                          ) * 100,\n",
    "            2), \n",
    "      '%')"
   ]
  }
 ],
 "metadata": {
  "kernelspec": {
   "display_name": "Python 3 (ipykernel)",
   "language": "python",
   "name": "python3"
  },
  "language_info": {
   "codemirror_mode": {
    "name": "ipython",
    "version": 3
   },
   "file_extension": ".py",
   "mimetype": "text/x-python",
   "name": "python",
   "nbconvert_exporter": "python",
   "pygments_lexer": "ipython3",
   "version": "3.11.7"
  }
 },
 "nbformat": 4,
 "nbformat_minor": 4
}
