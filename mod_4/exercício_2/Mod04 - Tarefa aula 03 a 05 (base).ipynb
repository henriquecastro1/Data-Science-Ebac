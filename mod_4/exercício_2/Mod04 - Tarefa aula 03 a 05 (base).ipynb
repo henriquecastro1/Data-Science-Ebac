{
 "cells": [
  {
   "cell_type": "markdown",
   "metadata": {},
   "source": [
    "## Exercício 1: Vestibular\n",
    "\n",
    "Considere que a os dados gerados na célula abaixo contêm o número de acertos de 100 alunos em um vestibular para um curso de exatas, divididas pelos respectivos assuntos. Considere que cada assunto possui um número de questões conforme a tabela abaixo:\n",
    "\n",
    "| assunto | número de questões |\n",
    "|:---:|:---:|\n",
    "| Matemática | 24 |\n",
    "| Português | 18 |\n",
    "| Geografia | 8 |\n",
    "| Inglês | 8 |\n",
    "| História | 8 |\n",
    "| Física | 12 |\n",
    "| Química | 12 |\n",
    "\n",
    "Usando os comandos de operações com DataFrames que você aprendeu na Aula 03, calcule:\n",
    "\n",
    "1. (operações com escalar) Calcule o percentual de acerto dos alunos por assunto.  \n",
    "2. (operações entre *DataFrames) Calcule o total de acertos de cada aluno.  \n",
    "3. Calcule o porcentual geral de cada aluno.  \n",
    "4. Suponha que a nota de corte para a segunda fase seja 45. Quantos alunos tiveram nota maior que 45?  "
   ]
  },
  {
   "cell_type": "code",
   "execution_count": 26,
   "metadata": {},
   "outputs": [],
   "source": [
    "import pandas as pd\n",
    "import numpy as np\n",
    "\n",
    "np.random.seed(42)\n",
    "df_mat = pd.DataFrame(np.random.randint(24, size=(100, 1)), columns=['Qt_acertos'])\n",
    "\n",
    "df_por = pd.DataFrame(np.random.randint(18, size=(100, 1)), columns=['Qt_acertos'])\n",
    "\n",
    "df_geo = pd.DataFrame(np.random.randint(8, size=(100, 1)), columns=['Qt_acertos'])\n",
    "\n",
    "df_ing = pd.DataFrame(np.random.randint(8, size=(100, 1)), columns=['Qt_acertos'])\n",
    "\n",
    "df_his = pd.DataFrame(np.random.randint(8, size=(100, 1)), columns=['Qt_acertos'])\n",
    "\n",
    "df_fis = pd.DataFrame(np.random.randint(12, size=(100, 1)), columns=['Qt_acertos'])\n",
    "\n",
    "df_qui = pd.DataFrame(np.random.randint(12, size=(100, 1)), columns=['Qt_acertos'])"
   ]
  },
  {
   "cell_type": "code",
   "execution_count": 27,
   "metadata": {},
   "outputs": [],
   "source": [
    "# 1) Seu código aqui\n",
    "\n",
    "pc_mat = df_mat / 24\n",
    "pc_por = df_por / 18\n",
    "pc_geo = df_geo /  8\n",
    "pc_ing = df_ing /  8\n",
    "pc_his = df_his /  8\n",
    "pc_fis = df_fis /  8\n",
    "pc_qui = df_qui /  8"
   ]
  },
  {
   "cell_type": "code",
   "execution_count": 28,
   "metadata": {},
   "outputs": [
    {
     "data": {
      "text/html": [
       "<div>\n",
       "<style scoped>\n",
       "    .dataframe tbody tr th:only-of-type {\n",
       "        vertical-align: middle;\n",
       "    }\n",
       "\n",
       "    .dataframe tbody tr th {\n",
       "        vertical-align: top;\n",
       "    }\n",
       "\n",
       "    .dataframe thead th {\n",
       "        text-align: right;\n",
       "    }\n",
       "</style>\n",
       "<table border=\"1\" class=\"dataframe\">\n",
       "  <thead>\n",
       "    <tr style=\"text-align: right;\">\n",
       "      <th></th>\n",
       "      <th>Qt_acertos</th>\n",
       "    </tr>\n",
       "  </thead>\n",
       "  <tbody>\n",
       "    <tr>\n",
       "      <th>0</th>\n",
       "      <td>35</td>\n",
       "    </tr>\n",
       "    <tr>\n",
       "      <th>1</th>\n",
       "      <td>48</td>\n",
       "    </tr>\n",
       "    <tr>\n",
       "      <th>2</th>\n",
       "      <td>50</td>\n",
       "    </tr>\n",
       "    <tr>\n",
       "      <th>3</th>\n",
       "      <td>32</td>\n",
       "    </tr>\n",
       "    <tr>\n",
       "      <th>4</th>\n",
       "      <td>30</td>\n",
       "    </tr>\n",
       "    <tr>\n",
       "      <th>...</th>\n",
       "      <td>...</td>\n",
       "    </tr>\n",
       "    <tr>\n",
       "      <th>95</th>\n",
       "      <td>34</td>\n",
       "    </tr>\n",
       "    <tr>\n",
       "      <th>96</th>\n",
       "      <td>27</td>\n",
       "    </tr>\n",
       "    <tr>\n",
       "      <th>97</th>\n",
       "      <td>40</td>\n",
       "    </tr>\n",
       "    <tr>\n",
       "      <th>98</th>\n",
       "      <td>40</td>\n",
       "    </tr>\n",
       "    <tr>\n",
       "      <th>99</th>\n",
       "      <td>42</td>\n",
       "    </tr>\n",
       "  </tbody>\n",
       "</table>\n",
       "<p>100 rows × 1 columns</p>\n",
       "</div>"
      ],
      "text/plain": [
       "    Qt_acertos\n",
       "0           35\n",
       "1           48\n",
       "2           50\n",
       "3           32\n",
       "4           30\n",
       "..         ...\n",
       "95          34\n",
       "96          27\n",
       "97          40\n",
       "98          40\n",
       "99          42\n",
       "\n",
       "[100 rows x 1 columns]"
      ]
     },
     "execution_count": 28,
     "metadata": {},
     "output_type": "execute_result"
    }
   ],
   "source": [
    "# 2) Seu código aqui\n",
    "total = df_mat + df_por + df_geo + df_ing + df_his + df_fis + df_qui\n",
    "total"
   ]
  },
  {
   "cell_type": "code",
   "execution_count": 29,
   "metadata": {},
   "outputs": [
    {
     "data": {
      "text/html": [
       "<div>\n",
       "<style scoped>\n",
       "    .dataframe tbody tr th:only-of-type {\n",
       "        vertical-align: middle;\n",
       "    }\n",
       "\n",
       "    .dataframe tbody tr th {\n",
       "        vertical-align: top;\n",
       "    }\n",
       "\n",
       "    .dataframe thead th {\n",
       "        text-align: right;\n",
       "    }\n",
       "</style>\n",
       "<table border=\"1\" class=\"dataframe\">\n",
       "  <thead>\n",
       "    <tr style=\"text-align: right;\">\n",
       "      <th></th>\n",
       "      <th>Qt_acertos</th>\n",
       "    </tr>\n",
       "  </thead>\n",
       "  <tbody>\n",
       "    <tr>\n",
       "      <th>0</th>\n",
       "      <td>3.888889</td>\n",
       "    </tr>\n",
       "    <tr>\n",
       "      <th>1</th>\n",
       "      <td>5.333333</td>\n",
       "    </tr>\n",
       "    <tr>\n",
       "      <th>2</th>\n",
       "      <td>5.555556</td>\n",
       "    </tr>\n",
       "    <tr>\n",
       "      <th>3</th>\n",
       "      <td>3.555556</td>\n",
       "    </tr>\n",
       "    <tr>\n",
       "      <th>4</th>\n",
       "      <td>3.333333</td>\n",
       "    </tr>\n",
       "    <tr>\n",
       "      <th>...</th>\n",
       "      <td>...</td>\n",
       "    </tr>\n",
       "    <tr>\n",
       "      <th>95</th>\n",
       "      <td>3.777778</td>\n",
       "    </tr>\n",
       "    <tr>\n",
       "      <th>96</th>\n",
       "      <td>3.000000</td>\n",
       "    </tr>\n",
       "    <tr>\n",
       "      <th>97</th>\n",
       "      <td>4.444444</td>\n",
       "    </tr>\n",
       "    <tr>\n",
       "      <th>98</th>\n",
       "      <td>4.444444</td>\n",
       "    </tr>\n",
       "    <tr>\n",
       "      <th>99</th>\n",
       "      <td>4.666667</td>\n",
       "    </tr>\n",
       "  </tbody>\n",
       "</table>\n",
       "<p>100 rows × 1 columns</p>\n",
       "</div>"
      ],
      "text/plain": [
       "    Qt_acertos\n",
       "0     3.888889\n",
       "1     5.333333\n",
       "2     5.555556\n",
       "3     3.555556\n",
       "4     3.333333\n",
       "..         ...\n",
       "95    3.777778\n",
       "96    3.000000\n",
       "97    4.444444\n",
       "98    4.444444\n",
       "99    4.666667\n",
       "\n",
       "[100 rows x 1 columns]"
      ]
     },
     "execution_count": 29,
     "metadata": {},
     "output_type": "execute_result"
    }
   ],
   "source": [
    "# 3) Seu código aqui\n",
    "total/90 * 10"
   ]
  },
  {
   "cell_type": "code",
   "execution_count": 30,
   "metadata": {},
   "outputs": [
    {
     "data": {
      "text/plain": [
       "Qt_acertos    31\n",
       "dtype: int64"
      ]
     },
     "execution_count": 30,
     "metadata": {},
     "output_type": "execute_result"
    }
   ],
   "source": [
    "# 4) Seu código aqui\n",
    "total_gt_45 = total[total['Qt_acertos'] > 45]\n",
    "total_gt_45.count()"
   ]
  },
  {
   "cell_type": "markdown",
   "metadata": {},
   "source": [
    "## 2) Vestibular II\n",
    "\n",
    "Ainda sobre o mesmo banco de dados:\n",
    "\n",
    "1. Neste vestibular, quem 'zera' em matemática, física ou química está desqualificado. Monte um novo *DataFrame* com os alunos desqualificados por este critério.\n",
    "2. Quantos são esses alunos?\n",
    "3. Qual a média desses alunos em história e geografia?\n",
    "4. Monte um *DataFrame* com os alunos que passaram para a segunda fase. Repare que estes alunos não podem ter sido desqualificados."
   ]
  },
  {
   "cell_type": "code",
   "execution_count": 31,
   "metadata": {},
   "outputs": [
    {
     "data": {
      "text/html": [
       "<div>\n",
       "<style scoped>\n",
       "    .dataframe tbody tr th:only-of-type {\n",
       "        vertical-align: middle;\n",
       "    }\n",
       "\n",
       "    .dataframe tbody tr th {\n",
       "        vertical-align: top;\n",
       "    }\n",
       "\n",
       "    .dataframe thead th {\n",
       "        text-align: right;\n",
       "    }\n",
       "</style>\n",
       "<table border=\"1\" class=\"dataframe\">\n",
       "  <thead>\n",
       "    <tr style=\"text-align: right;\">\n",
       "      <th></th>\n",
       "      <th>Qt_acertos</th>\n",
       "    </tr>\n",
       "  </thead>\n",
       "  <tbody>\n",
       "    <tr>\n",
       "      <th>3</th>\n",
       "      <td>32</td>\n",
       "    </tr>\n",
       "    <tr>\n",
       "      <th>6</th>\n",
       "      <td>29</td>\n",
       "    </tr>\n",
       "    <tr>\n",
       "      <th>10</th>\n",
       "      <td>31</td>\n",
       "    </tr>\n",
       "    <tr>\n",
       "      <th>12</th>\n",
       "      <td>42</td>\n",
       "    </tr>\n",
       "    <tr>\n",
       "      <th>14</th>\n",
       "      <td>31</td>\n",
       "    </tr>\n",
       "    <tr>\n",
       "      <th>20</th>\n",
       "      <td>53</td>\n",
       "    </tr>\n",
       "    <tr>\n",
       "      <th>25</th>\n",
       "      <td>27</td>\n",
       "    </tr>\n",
       "    <tr>\n",
       "      <th>26</th>\n",
       "      <td>40</td>\n",
       "    </tr>\n",
       "    <tr>\n",
       "      <th>27</th>\n",
       "      <td>50</td>\n",
       "    </tr>\n",
       "    <tr>\n",
       "      <th>33</th>\n",
       "      <td>39</td>\n",
       "    </tr>\n",
       "    <tr>\n",
       "      <th>35</th>\n",
       "      <td>48</td>\n",
       "    </tr>\n",
       "    <tr>\n",
       "      <th>49</th>\n",
       "      <td>19</td>\n",
       "    </tr>\n",
       "    <tr>\n",
       "      <th>56</th>\n",
       "      <td>39</td>\n",
       "    </tr>\n",
       "    <tr>\n",
       "      <th>65</th>\n",
       "      <td>24</td>\n",
       "    </tr>\n",
       "    <tr>\n",
       "      <th>66</th>\n",
       "      <td>31</td>\n",
       "    </tr>\n",
       "    <tr>\n",
       "      <th>72</th>\n",
       "      <td>50</td>\n",
       "    </tr>\n",
       "    <tr>\n",
       "      <th>73</th>\n",
       "      <td>37</td>\n",
       "    </tr>\n",
       "    <tr>\n",
       "      <th>74</th>\n",
       "      <td>39</td>\n",
       "    </tr>\n",
       "    <tr>\n",
       "      <th>84</th>\n",
       "      <td>26</td>\n",
       "    </tr>\n",
       "    <tr>\n",
       "      <th>89</th>\n",
       "      <td>63</td>\n",
       "    </tr>\n",
       "    <tr>\n",
       "      <th>92</th>\n",
       "      <td>40</td>\n",
       "    </tr>\n",
       "    <tr>\n",
       "      <th>94</th>\n",
       "      <td>25</td>\n",
       "    </tr>\n",
       "    <tr>\n",
       "      <th>98</th>\n",
       "      <td>40</td>\n",
       "    </tr>\n",
       "  </tbody>\n",
       "</table>\n",
       "</div>"
      ],
      "text/plain": [
       "    Qt_acertos\n",
       "3           32\n",
       "6           29\n",
       "10          31\n",
       "12          42\n",
       "14          31\n",
       "20          53\n",
       "25          27\n",
       "26          40\n",
       "27          50\n",
       "33          39\n",
       "35          48\n",
       "49          19\n",
       "56          39\n",
       "65          24\n",
       "66          31\n",
       "72          50\n",
       "73          37\n",
       "74          39\n",
       "84          26\n",
       "89          63\n",
       "92          40\n",
       "94          25\n",
       "98          40"
      ]
     },
     "execution_count": 31,
     "metadata": {},
     "output_type": "execute_result"
    }
   ],
   "source": [
    "# seu código aqui\n",
    "df_eliminados = total[(df_mat['Qt_acertos'] == 0) | \n",
    "                      (df_fis['Qt_acertos'] == 0) | \n",
    "                      (df_qui['Qt_acertos'] == 0)]\n",
    "\n",
    "df_eliminados"
   ]
  },
  {
   "cell_type": "markdown",
   "metadata": {},
   "source": [
    "## 3) Vacinações no Acre\n",
    "Vamos trabalhar agora com a base de vacinações no Acre. Para facilitar a sua vida, copiamos o link do arquivo na célula abaixo.\n",
    "\n",
    "1. Quantas vacinas estão registradas nessa base?  \n",
    "2. Quantos pacientes foram vacinados? (considere um paciente para cada valor único de ```paciente_id```)  \n",
    "3. Quantos pacientes únicos tomaram a primeira dose? OBS: Há um caractere especial neste campo. Receba os valores do campo com o método ```.unique()```.   \n",
    "4. Quantos pacientes com menos de 18 anos foram vacinados?  \n",
    "5. Quantos estabelecimentos aplicaram vacina no Acre?\n",
    "\n",
    "\n",
    "**OBS:** O portal do DATASUS pode apresentar instabilidades, retornando um erro na segunda célula abaixo. Por este motivo está disponível uma base estática, que se for baixada para o seu *working directory* pode ser lida com este comando: ```df = pd.read_csv('registros de vacinacao covid ACRE.csv', sep=';')```.\n",
    "\n",
    "**OBS2:** Para saber qual é o seu working directory, rode no jupyter: ```!pwd```."
   ]
  },
  {
   "cell_type": "code",
   "execution_count": 1,
   "metadata": {},
   "outputs": [],
   "source": [
    "import pandas as pd\n",
    "\n",
    "arquivo = 'registros_de_vacinacao_covid_ACRE.csv'\n",
    "\n",
    "df = pd.read_csv(arquivo, sep=';')"
   ]
  },
  {
   "cell_type": "code",
   "execution_count": 2,
   "metadata": {},
   "outputs": [
    {
     "name": "stdout",
     "output_type": "stream",
     "text": [
      "Quantidade de vacinas na base de dados: 169071\n"
     ]
    }
   ],
   "source": [
    "# 1)\n",
    "total_vacinas = df.shape[0]\n",
    "\n",
    "print(f'Quantidade de vacinas na base de dados: {total_vacinas}')"
   ]
  },
  {
   "cell_type": "code",
   "execution_count": 3,
   "metadata": {},
   "outputs": [
    {
     "name": "stdout",
     "output_type": "stream",
     "text": [
      "Quantidade de pacientes vacinados: 120517\n"
     ]
    }
   ],
   "source": [
    "# 2) \n",
    "total_pacientes = df['paciente_id'].nunique()\n",
    "\n",
    "print(f'Quantidade de pacientes vacinados: {total_pacientes}')"
   ]
  },
  {
   "cell_type": "code",
   "execution_count": 4,
   "metadata": {},
   "outputs": [
    {
     "name": "stdout",
     "output_type": "stream",
     "text": [
      "Quantidade de pacientes que tomaram a primeira dose: 119713\n"
     ]
    }
   ],
   "source": [
    "# 3) \n",
    "primeira_dose = df['vacina_descricao_dose'].unique()[0]\n",
    "\n",
    "pacientes_primeira_dose = df[df['vacina_descricao_dose'] == primeira_dose]['paciente_id'].nunique()\n",
    "\n",
    "print(f'Quantidade de pacientes que tomaram a primeira dose: {pacientes_primeira_dose}')"
   ]
  },
  {
   "cell_type": "code",
   "execution_count": 5,
   "metadata": {},
   "outputs": [
    {
     "name": "stdout",
     "output_type": "stream",
     "text": [
      "Quantidade de pacientes que tomaram a primeira dose:\n",
      "119713\n"
     ]
    }
   ],
   "source": [
    "# 3) solução alternativa\n",
    "pacientes_primeira_dose = df[df['vacina_descricao_dose'] == df['vacina_descricao_dose'].unique()[0]]\n",
    "\n",
    "numero_pacientes_primeira_dose = pacientes_primeira_dose['paciente_id'].nunique()\n",
    "\n",
    "print('Quantidade de pacientes que tomaram a primeira dose:')\n",
    "\n",
    "print(numero_pacientes_primeira_dose)"
   ]
  },
  {
   "cell_type": "code",
   "execution_count": 6,
   "metadata": {},
   "outputs": [
    {
     "name": "stdout",
     "output_type": "stream",
     "text": [
      "Quantidade de pacientes menores de 18 anos: 47\n"
     ]
    }
   ],
   "source": [
    "# 4) \n",
    "pacientes_menores_18_anos = df[df['paciente_idade'] < 18]['paciente_id'].nunique()\n",
    "\n",
    "print(f'Quantidade de pacientes menores de 18 anos: {pacientes_menores_18_anos}')"
   ]
  },
  {
   "cell_type": "code",
   "execution_count": 7,
   "metadata": {},
   "outputs": [
    {
     "name": "stdout",
     "output_type": "stream",
     "text": [
      "Quantidade de estabelecimentos que aplicaram vacina no Acre (pela coluna 'estabelecimento_valor'): 102\n",
      "Quantidade de estabelecimentos que aplicaram vacina no Acre (pela coluna 'estabelecimento_razaosocial'): 42\n"
     ]
    }
   ],
   "source": [
    "# 5)\n",
    "estabelecimentos_acre_valor = df[df['estabelecimento_uf'] == 'AC']['estabelecimento_valor'].nunique()\n",
    "\n",
    "estabelecimentos_acre_razaosocial = df[df['estabelecimento_uf'] == 'AC']['estabelecimento_razaosocial'].nunique()\n",
    "\n",
    "\n",
    "\n",
    "print(f\"Quantidade de estabelecimentos que aplicaram vacina no Acre (pela coluna 'estabelecimento_valor'): {estabelecimentos_acre_valor}\")\n",
    "\n",
    "print(f\"Quantidade de estabelecimentos que aplicaram vacina no Acre (pela coluna 'estabelecimento_razaosocial'): {estabelecimentos_acre_razaosocial}\")\n",
    "\n"
   ]
  },
  {
   "cell_type": "markdown",
   "metadata": {},
   "source": [
    "## 4) Vacinação II\n",
    "Gere um *DataFrame* que contenha somente os estabelecimentos que aplicaram vcinas a menores de 18 anos. Nesse *DataFrame* devem conter somente os dados dos estabelecimentos, mais uma coluna sendo a quantidade de vacinas que o estabelecimento aplicou a menores de 18 anos.  \n",
    "  \n",
    "1. crie uma cópia do *DataFrame* original, contendo somente os registros de vacinas realizadas a menores de 18 anos.  \n",
    "2. crie uma lista das colunas desse *DataFrame* com o atributo de *DataFrame* **.columns()**  \n",
    "3. Nesse *DataFrame* faça uma contagem do campo ```vacina_categoria_nome```.\n",
    "3. a partir da lista de colunas, escolha somente aquelas que são referentes ao estabelecimento, faça uma lista com esses valores.  \n",
    "4. usando o método *.loc*, selecione somente essas variáveis  \n",
    "5. Aplique o método **.drop_duplicates** e crie uma lista com uma linha para cada estabelecimento, com os dados do estabelecimento  "
   ]
  },
  {
   "cell_type": "code",
   "execution_count": 9,
   "metadata": {},
   "outputs": [],
   "source": [
    "# 1) \n",
    "df_menores_18 = df[df['paciente_idade'] < 18].copy()\n"
   ]
  },
  {
   "cell_type": "code",
   "execution_count": 10,
   "metadata": {},
   "outputs": [],
   "source": [
    "# 2) \n",
    "colunas_df_menores_18 = df_menores_18.columns.tolist()\n",
    "\n"
   ]
  },
  {
   "cell_type": "code",
   "execution_count": 11,
   "metadata": {},
   "outputs": [
    {
     "name": "stdout",
     "output_type": "stream",
     "text": [
      "Quantidade de valores na coluna 'vacina_categoria_nome':\n",
      "54\n",
      "\n"
     ]
    }
   ],
   "source": [
    "# 3)\n",
    "print(\"Quantidade de valores na coluna 'vacina_categoria_nome':\")\n",
    "\n",
    "print(df_menores_18['vacina_categoria_nome'].count())\n",
    "\n",
    "print()"
   ]
  },
  {
   "cell_type": "code",
   "execution_count": 13,
   "metadata": {},
   "outputs": [
    {
     "name": "stdout",
     "output_type": "stream",
     "text": [
      "Quantidade de valores únicos na coluna 'vacina_categoria_nome':\n",
      "5\n",
      "\n"
     ]
    }
   ],
   "source": [
    "print(\"Quantidade de valores únicos na coluna 'vacina_categoria_nome':\")\n",
    "\n",
    "print(df_menores_18['vacina_categoria_nome'].nunique())\n",
    "\n",
    "print()"
   ]
  },
  {
   "cell_type": "code",
   "execution_count": 12,
   "metadata": {},
   "outputs": [
    {
     "name": "stdout",
     "output_type": "stream",
     "text": [
      "Contagem dos valores únicos na coluna 'vacina_categoria_nome':\n",
      "vacina_categoria_nome\n",
      "Povos Indígenas                     33\n",
      "Trabalhadores de Saúde               9\n",
      "Povos e Comunidades Tradicionais     9\n",
      "Comorbidades                         2\n",
      "Faixa Etária                         1\n",
      "Name: count, dtype: int64\n",
      "\n"
     ]
    }
   ],
   "source": [
    "print(\"Contagem dos valores únicos na coluna 'vacina_categoria_nome':\")\n",
    "\n",
    "print(df_menores_18['vacina_categoria_nome'].value_counts())\n",
    "\n",
    "print()\n",
    "\n"
   ]
  },
  {
   "cell_type": "code",
   "execution_count": 14,
   "metadata": {},
   "outputs": [],
   "source": [
    "# 4)\n",
    "colunas_estabelecimentos_df_menores_18 = [coluna for coluna in colunas_df_menores_18 if coluna.startswith('estabelecimento')]\n",
    "\n"
   ]
  },
  {
   "cell_type": "code",
   "execution_count": 15,
   "metadata": {},
   "outputs": [],
   "source": [
    "# 5)\n",
    "df_estabelecimentos_menores_18 = df_menores_18.loc[:, colunas_estabelecimentos_df_menores_18]\n",
    "\n"
   ]
  },
  {
   "cell_type": "code",
   "execution_count": 16,
   "metadata": {},
   "outputs": [
    {
     "data": {
      "text/html": [
       "<div>\n",
       "<style scoped>\n",
       "    .dataframe tbody tr th:only-of-type {\n",
       "        vertical-align: middle;\n",
       "    }\n",
       "\n",
       "    .dataframe tbody tr th {\n",
       "        vertical-align: top;\n",
       "    }\n",
       "\n",
       "    .dataframe thead th {\n",
       "        text-align: right;\n",
       "    }\n",
       "</style>\n",
       "<table border=\"1\" class=\"dataframe\">\n",
       "  <thead>\n",
       "    <tr style=\"text-align: right;\">\n",
       "      <th></th>\n",
       "      <th>estabelecimento_valor</th>\n",
       "      <th>estabelecimento_razaosocial</th>\n",
       "      <th>estabelecimento_municipio_codigo</th>\n",
       "      <th>estabelecimento_municipio_nome</th>\n",
       "      <th>estabelecimento_uf</th>\n",
       "    </tr>\n",
       "  </thead>\n",
       "  <tbody>\n",
       "    <tr>\n",
       "      <th>1</th>\n",
       "      <td>2001314</td>\n",
       "      <td>PREFEITURA MUNICIPAL DE EPITACIOLANDIA</td>\n",
       "      <td>120025</td>\n",
       "      <td>EPITACIOLANDIA</td>\n",
       "      <td>AC</td>\n",
       "    </tr>\n",
       "    <tr>\n",
       "      <th>2</th>\n",
       "      <td>6917291</td>\n",
       "      <td>PREFEITURA MUNICIPAL DE RIO BRANCO</td>\n",
       "      <td>120040</td>\n",
       "      <td>RIO BRANCO</td>\n",
       "      <td>AC</td>\n",
       "    </tr>\n",
       "    <tr>\n",
       "      <th>3</th>\n",
       "      <td>6159087</td>\n",
       "      <td>PREFEITURA MUNICIPAL DE CRUZEIRO DO SUL</td>\n",
       "      <td>120020</td>\n",
       "      <td>CRUZEIRO DO SUL</td>\n",
       "      <td>AC</td>\n",
       "    </tr>\n",
       "    <tr>\n",
       "      <th>4</th>\n",
       "      <td>2000040</td>\n",
       "      <td>PREFEITURA MUNICIPAL DE FEIJO</td>\n",
       "      <td>120030</td>\n",
       "      <td>FEIJO</td>\n",
       "      <td>AC</td>\n",
       "    </tr>\n",
       "    <tr>\n",
       "      <th>5</th>\n",
       "      <td>7625855</td>\n",
       "      <td>DISTRITO SANITARIO ESPECIAL INDIGENA ALTO RIO ...</td>\n",
       "      <td>120035</td>\n",
       "      <td>MARECHAL THAUMATURGO</td>\n",
       "      <td>AC</td>\n",
       "    </tr>\n",
       "    <tr>\n",
       "      <th>6</th>\n",
       "      <td>6748759</td>\n",
       "      <td>DISTRITO SANITARIO ESPECIAL INDIGENA ALTO RIO ...</td>\n",
       "      <td>120030</td>\n",
       "      <td>FEIJO</td>\n",
       "      <td>AC</td>\n",
       "    </tr>\n",
       "    <tr>\n",
       "      <th>7</th>\n",
       "      <td>6308740</td>\n",
       "      <td>DISTRITO SANITARIO ESPECIAL INDIGENA ALTO RIO ...</td>\n",
       "      <td>120039</td>\n",
       "      <td>PORTO WALTER</td>\n",
       "      <td>AC</td>\n",
       "    </tr>\n",
       "    <tr>\n",
       "      <th>8</th>\n",
       "      <td>2001748</td>\n",
       "      <td>PREFEITURA MUNICIPAL DE PORTO WALTER</td>\n",
       "      <td>120039</td>\n",
       "      <td>PORTO WALTER</td>\n",
       "      <td>AC</td>\n",
       "    </tr>\n",
       "    <tr>\n",
       "      <th>9</th>\n",
       "      <td>6917682</td>\n",
       "      <td>DISTRITO SANITARIO ESPECIAL INDIGENA ALTO RIO ...</td>\n",
       "      <td>120020</td>\n",
       "      <td>CRUZEIRO DO SUL</td>\n",
       "      <td>AC</td>\n",
       "    </tr>\n",
       "    <tr>\n",
       "      <th>10</th>\n",
       "      <td>6428940</td>\n",
       "      <td>PREFEITURA MUNICIPAL DE ASSIS BRASIL</td>\n",
       "      <td>120005</td>\n",
       "      <td>ASSIS BRASIL</td>\n",
       "      <td>AC</td>\n",
       "    </tr>\n",
       "    <tr>\n",
       "      <th>11</th>\n",
       "      <td>6612385</td>\n",
       "      <td>PREFEITURA MUNICIPAL DE TARAUACA</td>\n",
       "      <td>120060</td>\n",
       "      <td>TARAUACA</td>\n",
       "      <td>AC</td>\n",
       "    </tr>\n",
       "    <tr>\n",
       "      <th>12</th>\n",
       "      <td>9648968</td>\n",
       "      <td>DISTRITO SANITARIO ESPECIAL DE SAUDE INDIGENA ...</td>\n",
       "      <td>120034</td>\n",
       "      <td>MANOEL URBANO</td>\n",
       "      <td>AC</td>\n",
       "    </tr>\n",
       "    <tr>\n",
       "      <th>13</th>\n",
       "      <td>6430201</td>\n",
       "      <td>DISTRITO SANITARIO ESPECIAL INDIGENA ALTO JURUA</td>\n",
       "      <td>120032</td>\n",
       "      <td>JORDAO</td>\n",
       "      <td>AC</td>\n",
       "    </tr>\n",
       "    <tr>\n",
       "      <th>14</th>\n",
       "      <td>6955525</td>\n",
       "      <td>DISTRITO SANITARIO ESPECIAL INDIGENA ALTO RIO ...</td>\n",
       "      <td>120033</td>\n",
       "      <td>MANCIO LIMA</td>\n",
       "      <td>AC</td>\n",
       "    </tr>\n",
       "    <tr>\n",
       "      <th>15</th>\n",
       "      <td>5336171</td>\n",
       "      <td>SECRETARIA DE ESTADO DE SAUDE DO ACRE</td>\n",
       "      <td>120020</td>\n",
       "      <td>CRUZEIRO DO SUL</td>\n",
       "      <td>AC</td>\n",
       "    </tr>\n",
       "    <tr>\n",
       "      <th>16</th>\n",
       "      <td>6697151</td>\n",
       "      <td>MINISTERIO DA SAUDE</td>\n",
       "      <td>120050</td>\n",
       "      <td>SENA MADUREIRA</td>\n",
       "      <td>AC</td>\n",
       "    </tr>\n",
       "    <tr>\n",
       "      <th>17</th>\n",
       "      <td>3323307</td>\n",
       "      <td>PREFEITURA MUNICIPAL DE PORTO ACRE</td>\n",
       "      <td>120080</td>\n",
       "      <td>PORTO ACRE</td>\n",
       "      <td>AC</td>\n",
       "    </tr>\n",
       "    <tr>\n",
       "      <th>18</th>\n",
       "      <td>7123043</td>\n",
       "      <td>PREFEITURA MUNICIPAL DE JORDAO</td>\n",
       "      <td>120032</td>\n",
       "      <td>JORDAO</td>\n",
       "      <td>AC</td>\n",
       "    </tr>\n",
       "  </tbody>\n",
       "</table>\n",
       "</div>"
      ],
      "text/plain": [
       "    estabelecimento_valor                        estabelecimento_razaosocial  \\\n",
       "1                 2001314             PREFEITURA MUNICIPAL DE EPITACIOLANDIA   \n",
       "2                 6917291                 PREFEITURA MUNICIPAL DE RIO BRANCO   \n",
       "3                 6159087            PREFEITURA MUNICIPAL DE CRUZEIRO DO SUL   \n",
       "4                 2000040                      PREFEITURA MUNICIPAL DE FEIJO   \n",
       "5                 7625855  DISTRITO SANITARIO ESPECIAL INDIGENA ALTO RIO ...   \n",
       "6                 6748759  DISTRITO SANITARIO ESPECIAL INDIGENA ALTO RIO ...   \n",
       "7                 6308740  DISTRITO SANITARIO ESPECIAL INDIGENA ALTO RIO ...   \n",
       "8                 2001748               PREFEITURA MUNICIPAL DE PORTO WALTER   \n",
       "9                 6917682  DISTRITO SANITARIO ESPECIAL INDIGENA ALTO RIO ...   \n",
       "10                6428940               PREFEITURA MUNICIPAL DE ASSIS BRASIL   \n",
       "11                6612385                   PREFEITURA MUNICIPAL DE TARAUACA   \n",
       "12                9648968  DISTRITO SANITARIO ESPECIAL DE SAUDE INDIGENA ...   \n",
       "13                6430201    DISTRITO SANITARIO ESPECIAL INDIGENA ALTO JURUA   \n",
       "14                6955525  DISTRITO SANITARIO ESPECIAL INDIGENA ALTO RIO ...   \n",
       "15                5336171              SECRETARIA DE ESTADO DE SAUDE DO ACRE   \n",
       "16                6697151                                MINISTERIO DA SAUDE   \n",
       "17                3323307                 PREFEITURA MUNICIPAL DE PORTO ACRE   \n",
       "18                7123043                     PREFEITURA MUNICIPAL DE JORDAO   \n",
       "\n",
       "    estabelecimento_municipio_codigo estabelecimento_municipio_nome  \\\n",
       "1                             120025                 EPITACIOLANDIA   \n",
       "2                             120040                     RIO BRANCO   \n",
       "3                             120020                CRUZEIRO DO SUL   \n",
       "4                             120030                          FEIJO   \n",
       "5                             120035           MARECHAL THAUMATURGO   \n",
       "6                             120030                          FEIJO   \n",
       "7                             120039                   PORTO WALTER   \n",
       "8                             120039                   PORTO WALTER   \n",
       "9                             120020                CRUZEIRO DO SUL   \n",
       "10                            120005                   ASSIS BRASIL   \n",
       "11                            120060                       TARAUACA   \n",
       "12                            120034                  MANOEL URBANO   \n",
       "13                            120032                         JORDAO   \n",
       "14                            120033                    MANCIO LIMA   \n",
       "15                            120020                CRUZEIRO DO SUL   \n",
       "16                            120050                 SENA MADUREIRA   \n",
       "17                            120080                     PORTO ACRE   \n",
       "18                            120032                         JORDAO   \n",
       "\n",
       "   estabelecimento_uf  \n",
       "1                  AC  \n",
       "2                  AC  \n",
       "3                  AC  \n",
       "4                  AC  \n",
       "5                  AC  \n",
       "6                  AC  \n",
       "7                  AC  \n",
       "8                  AC  \n",
       "9                  AC  \n",
       "10                 AC  \n",
       "11                 AC  \n",
       "12                 AC  \n",
       "13                 AC  \n",
       "14                 AC  \n",
       "15                 AC  \n",
       "16                 AC  \n",
       "17                 AC  \n",
       "18                 AC  "
      ]
     },
     "execution_count": 16,
     "metadata": {},
     "output_type": "execute_result"
    }
   ],
   "source": [
    "# 6) \n",
    "lista_estabelecimentos_df_menores_18 = df_estabelecimentos_menores_18.drop_duplicates()\n",
    "\n",
    "lista_estabelecimentos_df_menores_18.reset_index(drop=True, inplace=True)\n",
    "\n",
    "lista_estabelecimentos_df_menores_18.index += 1\n",
    "\n",
    "lista_estabelecimentos_df_menores_18"
   ]
  }
 ],
 "metadata": {
  "kernelspec": {
   "display_name": "Python 3 (ipykernel)",
   "language": "python",
   "name": "python3"
  },
  "language_info": {
   "codemirror_mode": {
    "name": "ipython",
    "version": 3
   },
   "file_extension": ".py",
   "mimetype": "text/x-python",
   "name": "python",
   "nbconvert_exporter": "python",
   "pygments_lexer": "ipython3",
   "version": "3.11.7"
  },
  "toc": {
   "base_numbering": 1,
   "nav_menu": {},
   "number_sections": false,
   "sideBar": true,
   "skip_h1_title": true,
   "title_cell": "Índice",
   "title_sidebar": "Conteúdo",
   "toc_cell": false,
   "toc_position": {},
   "toc_section_display": true,
   "toc_window_display": false
  },
  "varInspector": {
   "cols": {
    "lenName": 16,
    "lenType": 16,
    "lenVar": 40
   },
   "kernels_config": {
    "python": {
     "delete_cmd_postfix": "",
     "delete_cmd_prefix": "del ",
     "library": "var_list.py",
     "varRefreshCmd": "print(var_dic_list())"
    },
    "r": {
     "delete_cmd_postfix": ") ",
     "delete_cmd_prefix": "rm(",
     "library": "var_list.r",
     "varRefreshCmd": "cat(var_dic_list()) "
    }
   },
   "types_to_exclude": [
    "module",
    "function",
    "builtin_function_or_method",
    "instance",
    "_Feature"
   ],
   "window_display": false
  }
 },
 "nbformat": 4,
 "nbformat_minor": 4
}
